{
 "cells": [
  {
   "cell_type": "markdown",
   "metadata": {
    "collapsed": true
   },
   "source": [
    "\n",
    "\n",
    "### Introduction ###\n",
    "The aim of the priject is to select the map from the region of world, get the data, audit the data and fix the problems encountered in data. Then import the cleaned data into databse and perform several queries against it.  \n",
    "\n",
    "### OSM Data ###\n",
    "\n",
    "* I am using OpenStreetMap data of Mountain View city, California downloaded from [mapzen](https://mapzen.com/data/metro-extracts/). The date of downloading the dataset is March 27, 2017 at 10:21 AM.\n",
    "* The format of datafile is in XML format, and we can find the description og Open Street XML format [here](http://wiki.openstreetmap.org/wiki/OSM_XML).\n",
    "\n",
    "### Database###\n",
    "\n",
    "* MongoDB\n",
    "\n",
    "### Problem encoutered  in Mountain View OSM map ###\n",
    "\n",
    "* There are some inconsistencies in the names of streets, some are incorrect and overabbreviated(\"S California Ave\", \"Wolfe Rd\").\n",
    "* Few inconsistent zip codes.\n",
    "* There ae inconsistency in phone numbers stored by users(\"650-322-2554\", \"+16508570333\",\"(650) 327-1688\").\n",
    "\n",
    "* This been noticed the OSM data extracted from mapzen extracts tool cotains data about others cities besides the chosen one. So other cities data is also exhibited durig queries.\n",
    "\n",
    "\n",
    "### Overview of Mountain View OSM data ###\n",
    "\n",
    "The dataset description is given as\n",
    "\n",
    "\n",
    "#### Size of data file ####\n",
    "* MountainView.osm(The original downloaded OpenStreetMap in xml format): 209MB\n",
    "* MountainView.osm.json(The processed OpenStreetMap in json format): 346MB\n",
    "\n",
    "#### Summary of descriptive statistics of dataset ####\n",
    "\n",
    "* Number of documents: 5754659\n",
    "* Number of unique users: 880\n",
    "* Number of nodes: 5136303\n",
    "* Number of ways: 618301\n",
    "\n",
    "### References ###\n",
    "\n",
    "1. [Udacity Sample Data Wrangling Project](https://docs.google.com/document/d/1F0Vs14oNEs2idFJR3C_OPxwS6L0HPliOii-QpbmrMo4/pub)\n",
    "\n",
    "2.  <https://zelite.github.io/Wrangle-OpenStreetMap-Data/>\n",
    "\n",
    "3. <https://english.stackexchange.com/questions/29009/standard-format-for-phone-numbers>\n",
    "\n",
    "### Code and Results ###\n",
    "There are several queries generated for looking deep insight of data which is follwed by conclusion .\n",
    "\n",
    "\n",
    "\n",
    "\n",
    "\n",
    "<b>Import Libraries</b>"
   ]
  },
  {
   "cell_type": "code",
   "execution_count": 102,
   "metadata": {
    "collapsed": false
   },
   "outputs": [],
   "source": [
    "# load libraries\n",
    "import os\n",
    "import xml.etree.cElementTree as cET\n",
    "from collections import defaultdict\n",
    "import pprint\n",
    "import re\n",
    "import codecs\n",
    "import json\n",
    "import string\n",
    "from pymongo import MongoClient\n",
    "from cleaning import *\n",
    "from audit import *\n",
    "from process_map import *"
   ]
  },
  {
   "cell_type": "code",
   "execution_count": 103,
   "metadata": {
    "collapsed": false
   },
   "outputs": [
    {
     "data": {
      "text/plain": [
       "'/Users/seemamishra/Desktop/Udacity/Data_Wrangling/P3_Data/MountainView.osm'"
      ]
     },
     "execution_count": 103,
     "metadata": {},
     "output_type": "execute_result"
    }
   ],
   "source": [
    "# set up map file path\n",
    "filename = \"MountainView.osm\" # osm filename\n",
    "# filename = \"sample200.osm\" # Sample osm filename\n",
    "path = \"/Users/seemamishra/Desktop/Udacity/Data_Wrangling/P3_Data\" # directory contain the osm file\n",
    "MountainViewosm = os.path.join(path, filename)\n",
    "\n",
    "# MountainViewosm = \"MountainView.osm\" # osm filename\n",
    "# path = \"d:\\GithubRepos\\Udacity\\P3\" # directory contain the osm file\n",
    "lower = re.compile(r'^([a-z]|_)*$') \n",
    "lower_colon = re.compile(r'^([a-z]|_)*:([a-z]|_)*$')\n",
    "problemchars = re.compile(r'[=\\+/&<>;\\'\"\\?%#$@\\,\\. \\t\\r\\n]')\n",
    "street_type_re = re.compile(r'\\b\\S+\\.?$', re.IGNORECASE)\n",
    "# initial version of expected street names\n",
    "expected = [\"Street\", \"Avenue\", \"Boulevard\", \"Drive\", \"Court\", \"Place\", \"Square\", \"Lane\",\n",
    "            \"Road\", \"Trail\", \"Parkway\", \"Commons\", \"highway\"]\n",
    "MountainViewosm"
   ]
  },
  {
   "cell_type": "markdown",
   "metadata": {},
   "source": [
    "#### Count the number of Tags ###"
   ]
  },
  {
   "cell_type": "code",
   "execution_count": 104,
   "metadata": {
    "collapsed": false
   },
   "outputs": [
    {
     "name": "stdout",
     "output_type": "stream",
     "text": [
      "defaultdict(<type 'int'>, {'node': 2048376, 'nd': 2318540, 'bounds': 2, 'member': 10530, 'tag': 835590, 'osm': 2, 'way': 246602, 'relation': 2532})\n"
     ]
    }
   ],
   "source": [
    "\n",
    "if __name__ == \"__main__\":\n",
    "    print count_tags(MountainViewosm)"
   ]
  },
  {
   "cell_type": "markdown",
   "metadata": {},
   "source": [
    "####  Tags types ###"
   ]
  },
  {
   "cell_type": "code",
   "execution_count": 105,
   "metadata": {
    "collapsed": false
   },
   "outputs": [],
   "source": [
    "\n",
    "if __name__ == \"__main__\":\n",
    "    print process_map(MountainViewosm)"
   ]
  },
  {
   "cell_type": "markdown",
   "metadata": {},
   "source": [
    "#### Audit the street names ###"
   ]
  },
  {
   "cell_type": "code",
   "execution_count": 72,
   "metadata": {
    "collapsed": false
   },
   "outputs": [],
   "source": [
    "\n",
    "if __name__ == '__main__':\n",
    "    st_types = audit_street(MountainViewosm)\n",
    "    # print out unexpected street names\n",
    "#     pprint.pprint(dict(st_types))\n",
    "\n",
    "\n"
   ]
  },
  {
   "cell_type": "markdown",
   "metadata": {},
   "source": [
    "#### Update the street name ###"
   ]
  },
  {
   "cell_type": "code",
   "execution_count": 99,
   "metadata": {
    "collapsed": false
   },
   "outputs": [],
   "source": [
    "# Street name updatation\n",
    "# creating a dictionary for correcting street names\n",
    "mapping_street = { \"AA\" :\"Aberdeen Athletic Center\",\n",
    "            \"Ct\": \"Court\",\n",
    "            \"Ct.\": \"Court\",\n",
    "            \"St.\": \"Street\",\n",
    "            \"St,\": \"Street\",\n",
    "            \"ST\": \"Street\",\n",
    "            \"street\": \"Street\",\n",
    "            \"STE\": \"Street\",\n",
    "            \"Ave\": \"Avenue\",\n",
    "            \"Ave.\": \"Avenue\",\n",
    "            \"ave\": \"Avenue\",\n",
    "            \"Rd.\": \"Road\",   \n",
    "            \"rd.\": \"Road\",\n",
    "            \"Rd\": \"Road\",    \n",
    "            \"Hwy\": \"Highway\",\n",
    "            \"HIghway\": \"Highway\",\n",
    "            \"BLDG\": \"Building\",\n",
    "            \"APT\": \"Apartment\",\n",
    "           \"West Evelyn Avenue Suite #114\":\"West Evelyn Avenue Suite\",\n",
    "           \"Showers Drive STE 2\": \"Showers Drive Street\",\n",
    "           \"Showers Drive STE 7\": \"Showers Drive Street\",\n",
    "           \"East Charleston Road APT 9\": \"East Charleston Road Apartment\",\n",
    "           \"Leghorn Street #B\": \"Leghorn Street\",\n",
    "           \"Plymouth Street #C\": \"Plymouth Street\",\n",
    "           \"Hamilton Ave #140\": \"Hamilton Ave\",\n",
    "           \"W. El Camino Real\": \"West El Camino Real\",\n",
    "           \"W El Camino Real\":\"West El Camino Real\",\n",
    "           \"E. El Camino Real\": \"East El Camino Real\",\n",
    "           \"E El Camino Real\" : \"East El Camino Real\",\n",
    "           \"West Dana St\": \"West Dana Street\"\n",
    "           }\n",
    "           \n",
    "                \n",
    "if __name__ == '__main__':\n",
    "    for st_type, ways in st_types.iteritems():\n",
    "        for name in ways:\n",
    "            better_name = update_name(name, mapping_street)\n",
    "#             print name, \"=>\", better_name"
   ]
  },
  {
   "cell_type": "markdown",
   "metadata": {},
   "source": [
    "#### Audit zip codes"
   ]
  },
  {
   "cell_type": "code",
   "execution_count": 107,
   "metadata": {
    "collapsed": false,
    "scrolled": true
   },
   "outputs": [],
   "source": [
    "\n",
    "if __name__ == '__main__':\n",
    "    zipcodes = audit_zipcodes(MountainViewosm)\n",
    "# for zipcode in zipcodes:\n",
    "#     print zipcode, zipcodes[zipcode]\n",
    "# zipcodes"
   ]
  },
  {
   "cell_type": "markdown",
   "metadata": {},
   "source": [
    "#### strategy for updating zip code ###\n",
    "\n",
    "Since the data also includes the area of Santa Clara, Cupetino, San Jose and Sunnyvale. I have only updated he zipcode of Moutain view which starts from '94' using mapping dictionary."
   ]
  },
  {
   "cell_type": "code",
   "execution_count": 92,
   "metadata": {
    "collapsed": false
   },
   "outputs": [],
   "source": [
    "\n",
    "mapping_zipcode = { \"CA 94085\":\"94085\",\n",
    "            \"CA 94086\":\"94086\"\n",
    "           }          \n",
    "                          \n",
    "          \n",
    "if __name__ == '__main__':\n",
    "    for zipcode in zipcodes:\n",
    "        better_zipcode = update_zipcode(zipcode, mapping_zipcode)\n",
    "#         print zipcode, \"=>\", better_zipcode\n",
    "        "
   ]
  },
  {
   "cell_type": "markdown",
   "metadata": {},
   "source": [
    "\n",
    "\n",
    "#### Process OSM XML file to JSON ###\n",
    "Only the elements of type “node” and “way” will be imported to the database. The data model we’re going to use follows the format of this example:\n",
    "{\n",
    "\"id\": \"2406124091\",\n",
    "\"type: \"node\",\n",
    "\"visible\":\"true\",\n",
    "\"created\": {\n",
    "         \"version\":\"2\",\n",
    "         \"changeset\":\"17206049\",\n",
    "         \"timestamp\":\"2013-08-03T16:43:42Z\",\n",
    "         \"user\":\"linuxUser16\",\n",
    "         \"uid\":\"1219059\"\n",
    "       },\n",
    "\"pos\": [41.9757030, -87.6921867],\n",
    "\"address\": {\n",
    "         \"housenumber\": \"5157\",\n",
    "         \"postcode\": \"60625\",\n",
    "         \"street\": \"North Lincoln Ave\"\n",
    "       },\n",
    "\"amenity\": \"restaurant\",\n",
    "\"cuisine\": \"mexican\",\n",
    "\"name\": \"La Cabana De Don Luis\",\n",
    "\"phone\": \"1 (773)-271-5176\"\n",
    "}\n",
    "\n"
   ]
  },
  {
   "cell_type": "markdown",
   "metadata": {},
   "source": [
    "#### Insert the JSON data into MongoDB Database ####"
   ]
  },
  {
   "cell_type": "code",
   "execution_count": 100,
   "metadata": {
    "collapsed": false
   },
   "outputs": [],
   "source": [
    "# process the file\n",
    "CREATED = [ \"version\", \"changeset\", \"timestamp\", \"user\", \"uid\"]\n",
    "def shape_element(element):\n",
    "    node = {}\n",
    "    node[\"created\"]={}\n",
    "    node[\"address\"]={}\n",
    "    node[\"pos\"]=[]\n",
    "#     node[\"amenity\"] ={}\n",
    "#     node[\"cuisine\"] = {}\n",
    "    refs=[]\n",
    "    \n",
    "    # I only process the node and way tags\n",
    "    if element.tag == \"node\" or element.tag == \"way\" :\n",
    "        if \"id\" in element.attrib:\n",
    "            node[\"id\"]=element.attrib[\"id\"]\n",
    "        node[\"type\"]=element.tag\n",
    "\n",
    "        if \"visible\" in element.attrib.keys():\n",
    "            node[\"visible\"]=element.attrib[\"visible\"]\n",
    "      \n",
    "        # the key-value pairs with attributes in the CREATED list are added under key \"created\"\n",
    "        for elem in CREATED:\n",
    "            if elem in element.attrib:\n",
    "                node[\"created\"][elem]=element.attrib[elem]\n",
    "                \n",
    "        # attributes for latitude and longitude are added to a \"pos\" array\n",
    "        # include latitude value        \n",
    "        if \"lat\" in element.attrib:\n",
    "            node[\"pos\"].append(float(element.attrib[\"lat\"]))\n",
    "        # include longitude value    \n",
    "        if \"lon\" in element.attrib:\n",
    "            node[\"pos\"].append(float(element.attrib[\"lon\"]))\n",
    "\n",
    "        \n",
    "        for tag in element.iter(\"tag\"):\n",
    "            if not(problemchars.search(tag.attrib['k'])):\n",
    "                if tag.attrib['k'] == \"addr:housenumber\":\n",
    "                    node[\"address\"][\"housenumber\"]=tag.attrib['v']\n",
    "                    \n",
    "                if tag.attrib['k'] == \"addr:postcode\":\n",
    "                    node[\"address\"][\"postcode\"]=tag.attrib['v']\n",
    "                    node[\"address\"][\"postcode\"] = update_name(node[\"address\"][\"postcode\"], mapping_zipcode)\n",
    "                # handling the street attribute, update incorrect names using the strategy developed before   \n",
    "                if tag.attrib['k'] == \"addr:street\":\n",
    "                    node[\"address\"][\"street\"]=tag.attrib['v']\n",
    "                    node[\"address\"][\"street\"] = update_zipcode(node[\"address\"][\"street\"], mapping_street)\n",
    "\n",
    "                if tag.attrib['k'].find(\"addr\")==-1:\n",
    "                    node[tag.attrib['k']]=tag.attrib['v']\n",
    "                    \n",
    "        for nd in element.iter(\"nd\"):\n",
    "             refs.append(nd.attrib[\"ref\"])\n",
    "                \n",
    "        if node[\"address\"] =={}:\n",
    "            node.pop(\"address\", None)\n",
    "\n",
    "        if refs != []:\n",
    "           node[\"node_refs\"]=refs\n",
    "            \n",
    "        return node\n",
    "    else:\n",
    "        return None\n",
    "if __name__ == '__main__':\n",
    "    data = process_map(MountainViewosm, True)\n",
    "# for d in data:\n",
    "#     print d\n"
   ]
  },
  {
   "cell_type": "code",
   "execution_count": 74,
   "metadata": {
    "collapsed": false
   },
   "outputs": [],
   "source": [
    "client = MongoClient()\n",
    "db = client.MountainViewosm\n",
    "collection = db.MountainViewMAP\n",
    "collection.insert(data)"
   ]
  },
  {
   "cell_type": "markdown",
   "metadata": {},
   "source": [
    "#### Size of original XML file ####"
   ]
  },
  {
   "cell_type": "code",
   "execution_count": 22,
   "metadata": {
    "collapsed": false
   },
   "outputs": [
    {
     "data": {
      "text/plain": [
       "209"
      ]
     },
     "execution_count": 22,
     "metadata": {},
     "output_type": "execute_result"
    }
   ],
   "source": [
    "\n",
    "os.path.getsize(os.path.join(path, \"MountainView.osm\"))/1024/1024"
   ]
  },
  {
   "cell_type": "markdown",
   "metadata": {},
   "source": [
    "#### Size of processed JSON  file ####"
   ]
  },
  {
   "cell_type": "code",
   "execution_count": 14,
   "metadata": {
    "collapsed": false
   },
   "outputs": [
    {
     "data": {
      "text/plain": [
       "346"
      ]
     },
     "execution_count": 14,
     "metadata": {},
     "output_type": "execute_result"
    }
   ],
   "source": [
    "\n",
    "os.path.getsize(os.path.join(path, \"MountainView.osm.json\"))/1024/1024"
   ]
  },
  {
   "cell_type": "markdown",
   "metadata": {
    "collapsed": true
   },
   "source": [
    "#### Number of documents ####"
   ]
  },
  {
   "cell_type": "code",
   "execution_count": 15,
   "metadata": {
    "collapsed": false
   },
   "outputs": [
    {
     "data": {
      "text/plain": [
       "5754659"
      ]
     },
     "execution_count": 15,
     "metadata": {},
     "output_type": "execute_result"
    }
   ],
   "source": [
    "collection.find().count()\n"
   ]
  },
  {
   "cell_type": "markdown",
   "metadata": {
    "collapsed": true
   },
   "source": [
    "#### Number of unique users ####"
   ]
  },
  {
   "cell_type": "code",
   "execution_count": 19,
   "metadata": {
    "collapsed": false
   },
   "outputs": [
    {
     "data": {
      "text/plain": [
       "880"
      ]
     },
     "execution_count": 19,
     "metadata": {},
     "output_type": "execute_result"
    }
   ],
   "source": [
    "# Number of unique users\n",
    "len(collection.group([\"created.uid\"], {}, {\"count\":0}, \"function(o, p){p.count++}\"))\n"
   ]
  },
  {
   "cell_type": "markdown",
   "metadata": {
    "collapsed": true
   },
   "source": [
    "#### Number of nodes ####"
   ]
  },
  {
   "cell_type": "code",
   "execution_count": 20,
   "metadata": {
    "collapsed": false
   },
   "outputs": [
    {
     "data": {
      "text/plain": [
       "5136303"
      ]
     },
     "execution_count": 20,
     "metadata": {},
     "output_type": "execute_result"
    }
   ],
   "source": [
    "# Number of nodes\n",
    "collection.find({\"type\":\"node\"}).count()"
   ]
  },
  {
   "cell_type": "markdown",
   "metadata": {
    "collapsed": true
   },
   "source": [
    "#### Number of ways ####"
   ]
  },
  {
   "cell_type": "code",
   "execution_count": 21,
   "metadata": {
    "collapsed": false
   },
   "outputs": [
    {
     "data": {
      "text/plain": [
       "618301"
      ]
     },
     "execution_count": 21,
     "metadata": {},
     "output_type": "execute_result"
    }
   ],
   "source": [
    "collection.find({\"type\":\"way\"}).count()"
   ]
  },
  {
   "cell_type": "markdown",
   "metadata": {
    "collapsed": true
   },
   "source": [
    "#### Top 5 methods used to create data entry ####"
   ]
  },
  {
   "cell_type": "code",
   "execution_count": 65,
   "metadata": {
    "collapsed": false
   },
   "outputs": [
    {
     "name": "stdout",
     "output_type": "stream",
     "text": [
      "{u'count': 9184592, u'_id': None}\n",
      "{u'count': 6970, u'_id': u'JOSM'}\n",
      "{u'count': 2384, u'_id': u'Potlatch 0.10f'}\n",
      "{u'count': 1430, u'_id': u'Potlatch 0.9c'}\n",
      "{u'count': 464, u'_id': u'Potlatch 0.10b'}\n"
     ]
    }
   ],
   "source": [
    "\n",
    "pipeline = [{\"$group\":{\"_id\": \"$created_by\",\"count\": {\"$sum\": 1}}},\n",
    "                     {\"$sort\": {\"count\": -1}},\n",
    "                    {\"$limit\": 5}]\n",
    "           \n",
    "result = collection.aggregate(pipeline)\n",
    "for r in result:\n",
    "    print r\n",
    "# assert len(result['result'])\n",
    "\n",
    "# print(len(result['result']))\n",
    "# print result[result]"
   ]
  },
  {
   "cell_type": "markdown",
   "metadata": {
    "collapsed": true
   },
   "source": [
    "#### Top 5 users contributions ####"
   ]
  },
  {
   "cell_type": "code",
   "execution_count": 42,
   "metadata": {
    "collapsed": false
   },
   "outputs": [
    {
     "name": "stdout",
     "output_type": "stream",
     "text": [
      "{u'count': 1215360, u'_id': u'RichRico'}\n",
      "{u'count': 1130735, u'_id': u'ediyes'}\n",
      "{u'count': 960835, u'_id': u'samely'}\n",
      "{u'count': 930727, u'_id': u'karitotp'}\n",
      "{u'count': 701631, u'_id': u'calfarome'}\n"
     ]
    }
   ],
   "source": [
    "import csv\n",
    "# top three users with most contributions\n",
    "pipeline = [{\"$group\":{\"_id\": \"$created.user\",\n",
    "                       \"count\": {\"$sum\": 1}}},\n",
    "            {\"$sort\": {\"count\": -1}},\n",
    "            {\"$limit\": 5}\n",
    "            ]\n",
    "result = collection.aggregate(pipeline)\n",
    "for r in result:\n",
    "    print r\n",
    "\n",
    "\n",
    "\n"
   ]
  },
  {
   "cell_type": "markdown",
   "metadata": {},
   "source": [
    "### Additional Data exploration"
   ]
  },
  {
   "cell_type": "markdown",
   "metadata": {
    "collapsed": true
   },
   "source": [
    "#### Most popular fast food resturant ####"
   ]
  },
  {
   "cell_type": "code",
   "execution_count": 45,
   "metadata": {
    "collapsed": false
   },
   "outputs": [
    {
     "name": "stdout",
     "output_type": "stream",
     "text": [
      "{u'count': 376, u'_id': {}}\n",
      "{u'count': 304, u'_id': u'mexican'}\n",
      "{u'count': 280, u'_id': u'chinese'}\n",
      "{u'count': 272, u'_id': u'japanese'}\n",
      "{u'count': 232, u'_id': u'indian'}\n"
     ]
    }
   ],
   "source": [
    "# Most popular cuisines\n",
    "pipeline = [{\"$match\":{\"amenity\":{\"$exists\":1}, \"amenity\":\"restaurant\", \"cuisine\":{\"$exists\":1}}}, \n",
    "            {\"$group\":{\"_id\":\"$cuisine\", \"count\":{\"$sum\":1}}},        \n",
    "            {\"$sort\":{\"count\":-1}}, \n",
    "            {\"$limit\":5}]\n",
    "result = collection.aggregate(pipeline)\n",
    "for r in result:\n",
    "    print r"
   ]
  },
  {
   "cell_type": "markdown",
   "metadata": {},
   "source": [
    "#### Name of Universities ####"
   ]
  },
  {
   "cell_type": "code",
   "execution_count": 25,
   "metadata": {
    "collapsed": false
   },
   "outputs": [
    {
     "name": "stdout",
     "output_type": "stream",
     "text": [
      "{u'count': 5, u'_id': u'Stanford University'}\n",
      "{u'count': 5, u'_id': u'Carnegie Mellon University Silicon Valley'}\n",
      "{u'count': 5, u'_id': u'Singularity University Classroom '}\n",
      "{u'count': 5, u'_id': u'Singularity University'}\n",
      "{u'count': 5, u'_id': u'20'}\n",
      "{u'count': 5, u'_id': u'Nine Star University of Health Sciences'}\n"
     ]
    }
   ],
   "source": [
    "# University\n",
    "pipeline = [{\"$match\":{\"amenity\":{\"$exists\":1}, \"amenity\": \"university\", \"name\":{\"$exists\":1}}},\n",
    "            {\"$group\":{\"_id\":\"$name\", \"count\":{\"$sum\":1}}},\n",
    "            {\"$sort\":{\"count\":-1}}]\n",
    "result = collection.aggregate(pipeline)\n",
    "for r in result:\n",
    "    print r\n"
   ]
  },
  {
   "cell_type": "markdown",
   "metadata": {
    "collapsed": true
   },
   "source": [
    "####  Places for worship ####"
   ]
  },
  {
   "cell_type": "code",
   "execution_count": 83,
   "metadata": {
    "collapsed": false
   },
   "outputs": [],
   "source": [
    "pipeline = [{\"$match\":{\"amenity\":{\"$exists\":1}, \"amenity\": \"place_of_worship\", \"name\":{\"$exists\":1}}},\n",
    "            {\"$group\":{\"_id\":\"$name\", \"count\":{\"$sum\":1}}},\n",
    "            {\"$sort\":{\"count\":-1}},\n",
    "           {\"$limit\": 5}]\n",
    "result = collection.aggregate(pipeline)\n",
    "# for r in result:\n",
    "#     print r"
   ]
  },
  {
   "cell_type": "markdown",
   "metadata": {
    "collapsed": true
   },
   "source": [
    "#### Gas stations ####"
   ]
  },
  {
   "cell_type": "code",
   "execution_count": 82,
   "metadata": {
    "collapsed": false
   },
   "outputs": [],
   "source": [
    "pipeline = [{\"$match\":{\"amenity\":{\"$exists\":1}, \"amenity\": \"fuel\", \"name\":{\"$exists\":1}}},\n",
    "            {\"$group\":{\"_id\":\"$name\", \"count\":{\"$sum\":1}}},\n",
    "            {\"$sort\":{\"count\":-1}},\n",
    "           {\"$limit\": 5}]\n",
    "result = collection.aggregate(pipeline)\n",
    "# for r in result:\n",
    "#     print r"
   ]
  },
  {
   "cell_type": "markdown",
   "metadata": {
    "collapsed": true
   },
   "source": [
    "#### Most popular Fast food cuisines ####"
   ]
  },
  {
   "cell_type": "code",
   "execution_count": 48,
   "metadata": {
    "collapsed": false
   },
   "outputs": [
    {
     "name": "stdout",
     "output_type": "stream",
     "text": [
      "{u'count': 112, u'_id': u'Subway'}\n",
      "{u'count': 56, u'_id': u\"McDonald's\"}\n",
      "{u'count': 40, u'_id': u\"Togo's\"}\n",
      "{u'count': 40, u'_id': u'Taco Bell'}\n",
      "{u'count': 24, u'_id': u'Burger King'}\n"
     ]
    }
   ],
   "source": [
    "pipeline = [{\"$match\":{\"amenity\":{\"$exists\":1}, \"amenity\": \"fast_food\", \"name\":{\"$exists\":1}}},\n",
    "            {\"$group\":{\"_id\":\"$name\", \"count\":{\"$sum\":1}}},\n",
    "            {\"$sort\":{\"count\":-1}},\n",
    "            {\"$limit\": 5}]\n",
    "result = collection.aggregate(pipeline)\n",
    "for r in result:\n",
    "    print r"
   ]
  },
  {
   "cell_type": "markdown",
   "metadata": {
    "collapsed": true
   },
   "source": [
    "#### Number of hospitals ####"
   ]
  },
  {
   "cell_type": "code",
   "execution_count": 27,
   "metadata": {
    "collapsed": false
   },
   "outputs": [
    {
     "name": "stdout",
     "output_type": "stream",
     "text": [
      "{u'count': 7, u'_id': u'Grant Cuesta Sub Acute Rehabilitation Center'}\n",
      "{u'count': 7, u'_id': u'VA Palo Alto Health Care System'}\n",
      "{u'count': 7, u'_id': u'VA Medical Center Menlo Park'}\n",
      "{u'count': 7, u'_id': u'El Camino Hospital'}\n",
      "{u'count': 7, u'_id': u'PAMF Menlo Park Surgical Hospital'}\n",
      "{u'count': 7, u'_id': u'Kaiser Permanente'}\n",
      "{u'count': 7, u'_id': u'Kaiser Permanente Santa Clara Medical Center'}\n",
      "{u'count': 7, u'_id': u'Camino Medical Group'}\n",
      "{u'count': 7, u'_id': u'Palo Alto Medical Foundation'}\n",
      "{u'count': 7, u'_id': u'Health Services'}\n"
     ]
    }
   ],
   "source": [
    "pipeline = [{\"$match\":{\"amenity\":{\"$exists\":1}, \"amenity\": \"hospital\", \"name\":{\"$exists\":1}}},\n",
    "            {\"$group\":{\"_id\":\"$name\", \"count\":{\"$sum\":1}}},\n",
    "            {\"$sort\":{\"count\":-1}}]\n",
    "result = collection.aggregate(pipeline)\n",
    "for r in result:\n",
    "    print r"
   ]
  },
  {
   "cell_type": "markdown",
   "metadata": {
    "collapsed": true
   },
   "source": [
    "#### Beauty Salon ####"
   ]
  },
  {
   "cell_type": "code",
   "execution_count": 81,
   "metadata": {
    "collapsed": false
   },
   "outputs": [],
   "source": [
    "pipeline = [{\"$match\":{\"amenity\":{\"$exists\":1}, \"amenity\": \"beauty\", \"name\":{\"$exists\":1}}},\n",
    "            {\"$group\":{\"_id\":\"$name\", \"count\":{\"$sum\":1}}},\n",
    "            {\"$sort\":{\"count\":-1}}]\n",
    "result = collection.aggregate(pipeline)\n",
    "# for r in result:\n",
    "#     print r"
   ]
  },
  {
   "cell_type": "markdown",
   "metadata": {
    "collapsed": true
   },
   "source": [
    "#### Libraries ####"
   ]
  },
  {
   "cell_type": "code",
   "execution_count": 54,
   "metadata": {
    "collapsed": false
   },
   "outputs": [],
   "source": [
    "pipeline = [{\"$match\":{\"amenity\":{\"$exists\":1}, \"amenity\": \"library\", \"name\":{\"$exists\":1}}},\n",
    "            {\"$group\":{\"_id\":\"$name\"}},\n",
    "            {\"$sort\":{\"count\":-1}}]\n",
    "result = collection.aggregate(pipeline)\n",
    "# for r in result:\n",
    "#     print r"
   ]
  },
  {
   "cell_type": "markdown",
   "metadata": {
    "collapsed": true
   },
   "source": [
    "####  most poular schools ####"
   ]
  },
  {
   "cell_type": "code",
   "execution_count": 55,
   "metadata": {
    "collapsed": false
   },
   "outputs": [
    {
     "name": "stdout",
     "output_type": "stream",
     "text": [
      "{u'count': 16, u'_id': u'Ohlone Elementary School'}\n",
      "{u'count': 16, u'_id': u'Union Academy'}\n",
      "{u'count': 16, u'_id': u'Pinewood School'}\n",
      "{u'count': 16, u'_id': u'Lucille M Nixon Elementary School'}\n",
      "{u'count': 16, u'_id': u'Palo Verde Elementary School'}\n"
     ]
    }
   ],
   "source": [
    "pipeline = [{\"$match\":{\"amenity\":{\"$exists\":1}, \"amenity\": \"school\", \"name\":{\"$exists\":1}}},\n",
    "            {\"$group\":{\"_id\":\"$name\", \"count\":{\"$sum\":1}}},\n",
    "            {\"$sort\":{\"count\":-1}},\n",
    "           {\"$limit\": 5}]\n",
    "result = collection.aggregate(pipeline)\n",
    "for r in result:\n",
    "    print r"
   ]
  },
  {
   "cell_type": "markdown",
   "metadata": {
    "collapsed": true
   },
   "source": [
    "#### Most popular Parkings ####"
   ]
  },
  {
   "cell_type": "code",
   "execution_count": 80,
   "metadata": {
    "collapsed": false
   },
   "outputs": [],
   "source": [
    "pipeline = [{\"$match\":{\"amenity\":{\"$exists\":1}, \"amenity\": \"parking\", \"name\":{\"$exists\":1}}},\n",
    "            {\"$group\":{\"_id\":\"$name\", \"count\":{\"$sum\":1}}},\n",
    "            {\"$sort\":{\"count\":-1}},\n",
    "           {\"$limit\": 3}]\n",
    "result = collection.aggregate(pipeline)\n",
    "# for r in result:\n",
    "#     print r"
   ]
  },
  {
   "cell_type": "markdown",
   "metadata": {
    "collapsed": true
   },
   "source": [
    "####  Popular Car wash ####"
   ]
  },
  {
   "cell_type": "code",
   "execution_count": 79,
   "metadata": {
    "collapsed": false
   },
   "outputs": [],
   "source": [
    "pipeline = [{\"$match\":{\"amenity\":{\"$exists\":1}, \"amenity\": \"car_wash\", \"name\":{\"$exists\":1}}},\n",
    "            {\"$group\":{\"_id\":\"$name\", \"count\":{\"$sum\":1}}},\n",
    "            {\"$sort\":{\"count\":-1}},\n",
    "            {\"$sort\":{\"count\":-1}},\n",
    "           {\"$limit\": 3}]\n",
    "result = collection.aggregate(pipeline)\n",
    "# for r in result:\n",
    "#     print r"
   ]
  },
  {
   "cell_type": "markdown",
   "metadata": {
    "collapsed": true
   },
   "source": [
    "#### Post office ####"
   ]
  },
  {
   "cell_type": "code",
   "execution_count": 78,
   "metadata": {
    "collapsed": false
   },
   "outputs": [],
   "source": [
    "pipeline = [{\"$match\":{\"amenity\":{\"$exists\":1}, \"amenity\": \"post_box\", \"name\":{\"$exists\":1}}},\n",
    "            {\"$group\":{\"_id\":\"$name\", \"count\":{\"$sum\":1}}},\n",
    "            {\"$sort\":{\"count\":-1}}]\n",
    "result = collection.aggregate(pipeline)\n",
    "# for r in result:\n",
    "#     print r"
   ]
  },
  {
   "cell_type": "markdown",
   "metadata": {
    "collapsed": true
   },
   "source": [
    "#### most populr Coffe shops ####"
   ]
  },
  {
   "cell_type": "code",
   "execution_count": 58,
   "metadata": {
    "collapsed": false
   },
   "outputs": [
    {
     "name": "stdout",
     "output_type": "stream",
     "text": [
      "{u'count': 168, u'_id': u'Starbucks'}\n",
      "{u'count': 24, u'_id': u'Starbucks Coffee'}\n",
      "{u'count': 24, u'_id': u'Tea Era'}\n",
      "{u'count': 16, u'_id': u'Cloud Cafe'}\n",
      "{u'count': 16, u'_id': u\"Peet's Coffee\"}\n"
     ]
    }
   ],
   "source": [
    "pipeline = [{\"$match\":{\"amenity\":{\"$exists\":1}, \"amenity\": \"cafe\", \"name\":{\"$exists\":1}}},\n",
    "            {\"$group\":{\"_id\":\"$name\", \"count\":{\"$sum\":1}}},\n",
    "            {\"$sort\":{\"count\":-1}},\n",
    "           {\"$limit\": 5}]\n",
    "result = collection.aggregate(pipeline)\n",
    "for r in result:\n",
    "    print r"
   ]
  },
  {
   "cell_type": "markdown",
   "metadata": {
    "collapsed": true
   },
   "source": [
    "\n",
    "\n",
    "#### Top 5 unique contributor of data ####"
   ]
  },
  {
   "cell_type": "code",
   "execution_count": 59,
   "metadata": {
    "collapsed": false
   },
   "outputs": [
    {
     "name": "stdout",
     "output_type": "stream",
     "text": [
      "{u'count': 1215360, u'_id': u'RichRico'}\n",
      "{u'count': 1130735, u'_id': u'ediyes'}\n",
      "{u'count': 960835, u'_id': u'samely'}\n",
      "{u'count': 930727, u'_id': u'karitotp'}\n",
      "{u'count': 701631, u'_id': u'calfarome'}\n"
     ]
    }
   ],
   "source": [
    "pipeline =[{\"$group\":{\"_id\":\"$created.user\", \"count\":{\"$sum\":1}}},\n",
    "            {\"$sort\":{\"count\":-1}},\n",
    "           {\"$limit\": 5}]\n",
    "result = collection.aggregate(pipeline)\n",
    "for r in result:\n",
    "    print r\n"
   ]
  },
  {
   "cell_type": "markdown",
   "metadata": {},
   "source": [
    "#### Top 5 timestamps when the data is  contributed  ####"
   ]
  },
  {
   "cell_type": "code",
   "execution_count": 68,
   "metadata": {
    "collapsed": false
   },
   "outputs": [
    {
     "name": "stdout",
     "output_type": "stream",
     "text": [
      "{u'count': 1179, u'_id': u'2016-02-05T18:42:04Z'}\n",
      "{u'count': 1163, u'_id': u'2016-01-15T15:11:35Z'}\n",
      "{u'count': 1139, u'_id': u'2016-01-15T15:11:34Z'}\n",
      "{u'count': 1115, u'_id': u'2016-02-04T19:41:43Z'}\n",
      "{u'count': 1059, u'_id': u'2016-02-03T16:54:41Z'}\n"
     ]
    }
   ],
   "source": [
    "pipeline =[{\"$group\":{\"_id\":\"$created.timestamp\", \"count\":{\"$sum\":1}}},\n",
    "            {\"$sort\":{\"count\":-1}},\n",
    "           {\"$limit\": 5}]\n",
    "result = collection.aggregate(pipeline)\n",
    "for r in result:\n",
    "    print r"
   ]
  },
  {
   "cell_type": "markdown",
   "metadata": {},
   "source": [
    "#### Highway ways in mountain view  ####"
   ]
  },
  {
   "cell_type": "code",
   "execution_count": 67,
   "metadata": {
    "collapsed": false
   },
   "outputs": [
    {
     "name": "stdout",
     "output_type": "stream",
     "text": [
      "{u'count': 9007803, u'_id': None}\n",
      "{u'count': 59072, u'_id': u'service'}\n",
      "{u'count': 31984, u'_id': u'residential'}\n",
      "{u'count': 20078, u'_id': u'footway'}\n",
      "{u'count': 13887, u'_id': u'stop'}\n"
     ]
    }
   ],
   "source": [
    "pipeline =[{\"$group\":{\"_id\":\"$highway\", \"count\":{\"$sum\":1}}},\n",
    "            {\"$sort\":{\"count\":-1}},\n",
    "           {\"$limit\":5}\n",
    "           ]\n",
    "result = collection.aggregate(pipeline)\n",
    "for r in result:\n",
    "    print r"
   ]
  },
  {
   "cell_type": "markdown",
   "metadata": {},
   "source": [
    "#### Types and number of ways in mountain view  ####"
   ]
  },
  {
   "cell_type": "code",
   "execution_count": 66,
   "metadata": {
    "collapsed": false
   },
   "outputs": [
    {
     "name": "stdout",
     "output_type": "stream",
     "text": [
      "{u'count': 9196646, u'_id': None}\n",
      "{u'count': 24, u'_id': u'Mathilda Avenue South'}\n",
      "{u'count': 16, u'_id': u'Middlefield Road;Maude Avenue'}\n",
      "{u'count': 16, u'_id': u'SR-82 South;Sunnyvale;El Camino Real'}\n",
      "{u'count': 16, u'_id': u'Mathilda Avenue North'}\n"
     ]
    }
   ],
   "source": [
    "pipeline =[{\"$group\":{\"_id\":\"$exit_to\", \"count\":{\"$sum\":1}}},\n",
    "            {\"$sort\":{\"count\":-1}},\n",
    "           {\"$limit\": 5}\n",
    "           ]\n",
    "result = collection.aggregate(pipeline)\n",
    "for r in result:\n",
    "    print r"
   ]
  },
  {
   "cell_type": "markdown",
   "metadata": {},
   "source": [
    "#### Most common building types"
   ]
  },
  {
   "cell_type": "code",
   "execution_count": 77,
   "metadata": {
    "collapsed": false
   },
   "outputs": [
    {
     "name": "stdout",
     "output_type": "stream",
     "text": [
      "{u'count': 667972, u'_id': u'yes'}\n",
      "{u'count': 75630, u'_id': u'house'}\n",
      "{u'count': 27904, u'_id': u'residential'}\n",
      "{u'count': 4006, u'_id': u'apartments'}\n",
      "{u'count': 3505, u'_id': u'roof'}\n"
     ]
    }
   ],
   "source": [
    "pipeline =  [{'$match': {'building': {'$exists': 1}}}, \n",
    "    {'$group': { '_id': '$building','count': {'$sum': 1}}},\n",
    "    {'$sort': {'count': -1}}, {'$limit': 5}\n",
    "]\n",
    "result = collection.aggregate(pipeline)\n",
    "for r in result:\n",
    "    print r"
   ]
  },
  {
   "cell_type": "markdown",
   "metadata": {},
   "source": [
    "### Other Ideas about data set \n",
    "1. Since the data consist of inconsistent phone numbers like \"650-322-2554\", \"+16508570333\" etc. During the collection of the data from user, it should follow the rule format of phone number of given country or area which is generraly in ITU E.123 standard:\n",
    "  - \"+\"\n",
    "  - 1.2 the national code (1 for the USA)\n",
    "  - space\n",
    "  - the area/regional code\n",
    "  - space\n",
    "  - the local exchange\n",
    "  - space\n",
    "  - the local number<br />\n",
    "\n",
    "2. There are some fields of node is missing like County, the data collection should follow the structured format. But it trivial because Nosql database can pretty much handle the non structured data.<br />\n",
    "\n",
    "3. To ensure the data collections lead to rich infomation about the nodes, the interface of website may follow some protocols while entering data using some altert like user can only enter data within this range depends on the region for which data is being entered.<br />\n",
    "\n",
    "4. To encourange contribution in data collection there might be some kind of gamification for the people."
   ]
  },
  {
   "cell_type": "markdown",
   "metadata": {},
   "source": [
    "### Conclusion\n",
    "After reviewing the data of mountain view, much of the information has been extracted about the city. The data has been well cleaned for the purpose of enough information extraction. Thinking about the compnies and startups established in Mountain view, i couldn't find any information regarding that. If the data is stored as in the name of comapnies and startups buildings, it would be really helpful to gain insight of number of the comapanies establishd in given city."
   ]
  }
 ],
 "metadata": {
  "anaconda-cloud": {},
  "kernelspec": {
   "display_name": "Python [Root]",
   "language": "python",
   "name": "Python [Root]"
  },
  "language_info": {
   "codemirror_mode": {
    "name": "ipython",
    "version": 2
   },
   "file_extension": ".py",
   "mimetype": "text/x-python",
   "name": "python",
   "nbconvert_exporter": "python",
   "pygments_lexer": "ipython2",
   "version": "2.7.12"
  }
 },
 "nbformat": 4,
 "nbformat_minor": 0
}
