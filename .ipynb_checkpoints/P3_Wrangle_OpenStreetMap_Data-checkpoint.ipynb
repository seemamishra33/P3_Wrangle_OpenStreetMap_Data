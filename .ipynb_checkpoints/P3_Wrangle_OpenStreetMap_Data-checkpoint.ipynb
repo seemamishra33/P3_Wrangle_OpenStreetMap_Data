{
 "cells": [
  {
   "cell_type": "markdown",
   "metadata": {
    "collapsed": true
   },
   "source": [
    "\n",
    "\n",
    "### Introduction ###\n",
    "The aim of the priject is to select the map from the region of world, get the data, audit the data and fix the problems encountered in data. Then import the cleaned data into databse and perform several queries against it.  \n",
    "\n",
    "### OSM Data ###\n",
    "\n",
    "* I am using OpenStreetMap data of Mountain View city, California downloaded from [mapzen](https://mapzen.com/data/metro-extracts/). The date of downloading the dataset is March 27, 2017 at 10:21 AM.\n",
    "* The format of datafile is in XML format, and we can find the description og Open Street XML format [here](http://wiki.openstreetmap.org/wiki/OSM_XML).\n",
    "\n",
    "### Database###\n",
    "\n",
    "* MongoDB\n",
    "\n",
    "### Issues in Mountiav View OSM data ###\n",
    "\n",
    "* There are some inconsistencies in the names of streets, some are incorrect and abbreviated.\n",
    "* Few inconsistent zip codes.\n",
    "* There ae inconsistency in phone numbers stored by users.\n",
    "\n",
    "\n",
    "### Overview of Mountain View OSM data ###\n",
    "\n",
    "The dataset description is given as\n",
    "\n",
    "\n",
    "#### Size of data file ####\n",
    "* MountainView.osm(The original downloaded OpenStreetMap in xml format): 209MB\n",
    "* MountainView.osm.json(The processed OpenStreetMap in json format): 346MB\n",
    "\n",
    "#### Summary of descriptive statistics of dataset ####\n",
    "\n",
    "* Number of documents: 5754659\n",
    "* Number of unique users: 880\n",
    "* Number of nodes: 5136303\n",
    "* Number of ways: 618301\n",
    "\n",
    "### References ###\n",
    "\n",
    "1. [Udacity Sample Data Wrangling Project](https://docs.google.com/document/d/1F0Vs14oNEs2idFJR3C_OPxwS6L0HPliOii-QpbmrMo4/pub)\n",
    "\n",
    "2.  <https://zelite.github.io/Wrangle-OpenStreetMap-Data/>\n",
    "\n",
    "3. <https://english.stackexchange.com/questions/29009/standard-format-for-phone-numbers>\n",
    "\n",
    "### Code and Results ###\n",
    "There several queries generated for look deeep insight of data which is follwed by conclusion .\n",
    "\n",
    "\n",
    "\n",
    "\n",
    "\n",
    "<b>Import Libraries</b>"
   ]
  },
  {
   "cell_type": "code",
   "execution_count": 2,
   "metadata": {
    "collapsed": true
   },
   "outputs": [],
   "source": [
    "# load libraries\n",
    "import os\n",
    "import xml.etree.cElementTree as cET\n",
    "from collections import defaultdict\n",
    "import pprint\n",
    "import re\n",
    "import codecs\n",
    "import json\n",
    "import string\n",
    "from pymongo import MongoClient"
   ]
  },
  {
   "cell_type": "code",
   "execution_count": 3,
   "metadata": {
    "collapsed": false
   },
   "outputs": [
    {
     "data": {
      "text/plain": [
       "'/Users/seemamishra/Desktop/Udacity/Data_Wrangling/P3_Data/MountainView.osm'"
      ]
     },
     "execution_count": 3,
     "metadata": {},
     "output_type": "execute_result"
    }
   ],
   "source": [
    "# set up map file path\n",
    "filename = \"MountainView.osm\" # osm filename\n",
    "# filename = \"sample200.osm\" # Sample osm filename\n",
    "path = \"/Users/seemamishra/Desktop/Udacity/Data_Wrangling/P3_Data\" # directory contain the osm file\n",
    "MountainViewosm = os.path.join(path, filename)\n",
    "\n",
    "# MountainViewosm = \"MountainView.osm\" # osm filename\n",
    "# path = \"d:\\GithubRepos\\Udacity\\P3\" # directory contain the osm file\n",
    "lower = re.compile(r'^([a-z]|_)*$') \n",
    "lower_colon = re.compile(r'^([a-z]|_)*:([a-z]|_)*$')\n",
    "problemchars = re.compile(r'[=\\+/&<>;\\'\"\\?%#$@\\,\\. \\t\\r\\n]')\n",
    "street_type_re = re.compile(r'\\b\\S+\\.?$', re.IGNORECASE)\n",
    "# initial version of expected street names\n",
    "expected = [\"Street\", \"Avenue\", \"Boulevard\", \"Drive\", \"Court\", \"Place\", \"Square\", \"Lane\",\n",
    "            \"Road\", \"Trail\", \"Parkway\", \"Commons\", \"highway\"]\n",
    "MountainViewosm"
   ]
  },
  {
   "cell_type": "markdown",
   "metadata": {},
   "source": [
    "#### Count the number of Tags ###"
   ]
  },
  {
   "cell_type": "code",
   "execution_count": 4,
   "metadata": {
    "collapsed": false
   },
   "outputs": [
    {
     "name": "stdout",
     "output_type": "stream",
     "text": [
      "defaultdict(<type 'int'>, {'node': 2048376, 'nd': 2318540, 'bounds': 2, 'member': 10530, 'tag': 835590, 'osm': 2, 'way': 246602, 'relation': 2532})\n"
     ]
    }
   ],
   "source": [
    "# Iterative parsing\n",
    "def count_tags(filename):\n",
    "    \n",
    "    # make empty defaultdict\n",
    "#     from collections import defaultdict\n",
    "    tags_dict = defaultdict(int)\n",
    "    \n",
    "    # use the iterparse method to find all the tags\n",
    "    for event, element in cET.iterparse(filename, events=(\"start\", \"end\")):\n",
    "#         print event\n",
    "        tags_dict[element.tag] += 1\n",
    "        \n",
    "    # return your results \n",
    "    return tags_dict\n",
    "\n",
    "if __name__ == \"__main__\":\n",
    "    print count_tags(MountainViewosm)"
   ]
  },
  {
   "cell_type": "markdown",
   "metadata": {},
   "source": [
    "####  Tags types ###"
   ]
  },
  {
   "cell_type": "code",
   "execution_count": 5,
   "metadata": {
    "collapsed": false
   },
   "outputs": [
    {
     "name": "stdout",
     "output_type": "stream",
     "text": [
      "{'problemchars': 25, 'lower': 226487, 'other': 4962, 'lower_colon': 186321}\n"
     ]
    }
   ],
   "source": [
    "# Tag types\n",
    "def key_type(element, keys):\n",
    "    if element.tag == \"tag\":\n",
    "    \n",
    "        k = element.attrib['k']\n",
    "#         print k\n",
    "        # serach k to see if it matches each regular expression\n",
    "        if lower.search(k):\n",
    "            keys['lower'] += 1\n",
    "        elif lower_colon.search(k):\n",
    "            keys['lower_colon'] += 1\n",
    "        elif problemchars.search(k):\n",
    "            keys['problemchars'] += 1\n",
    "        else:\n",
    "            keys['other'] += 1\n",
    "           \n",
    "    return keys\n",
    "\n",
    "\n",
    "\n",
    "def process_map(filename):\n",
    "    keys = {\"lower\": 0, \"lower_colon\": 0, \"problemchars\": 0, \"other\": 0}\n",
    "    for _, element in cET.iterparse(filename):\n",
    "        keys = key_type(element, keys)\n",
    "\n",
    "    return keys\n",
    "\n",
    "\n",
    "if __name__ == \"__main__\":\n",
    "    print process_map(MountainViewosm)"
   ]
  },
  {
   "cell_type": "markdown",
   "metadata": {},
   "source": [
    "#### Audit the street names ###"
   ]
  },
  {
   "cell_type": "code",
   "execution_count": 6,
   "metadata": {
    "collapsed": false
   },
   "outputs": [
    {
     "name": "stdout",
     "output_type": "stream",
     "text": [
      "{'114': set(['West Evelyn Avenue Suite #114']),\n",
      " '140': set(['Hamilton Ave #140']),\n",
      " '2': set(['Showers Drive STE 2']),\n",
      " '7': set(['Showers Drive STE 7']),\n",
      " '9': set(['East Charleston Road APT 9']),\n",
      " 'AA': set(['Showers Drive BLDG AA']),\n",
      " 'Alley': set(['Jackson Alley']),\n",
      " 'Ave': set(['California Ave',\n",
      "             'E Duane Ave',\n",
      "             'El Monte Ave',\n",
      "             'Hollenbeck Ave',\n",
      "             'Portage Ave',\n",
      "             'S California Ave',\n",
      "             'University Ave',\n",
      "             'W Maude Ave',\n",
      "             'W Washington Ave']),\n",
      " 'Ave.': set(['Menalto Ave.']),\n",
      " 'B': set(['Leghorn Street #B']),\n",
      " 'Bruno': set(['Serra San Bruno']),\n",
      " 'C': set(['Plymouth Street #C']),\n",
      " 'Calle': set(['La Calle']),\n",
      " 'Central': set(['Plaza Central']),\n",
      " 'Circle': set(['Bobolink Circle',\n",
      "                'Carlson Circle',\n",
      "                'Comstock Circle',\n",
      "                'Continental Circle',\n",
      "                'Distel Circle',\n",
      "                'Duluth Circle',\n",
      "                'East Meadow Circle',\n",
      "                'Los Palos Circle',\n",
      "                'Marcelli Circle',\n",
      "                'Metro Circle',\n",
      "                'Moffett Circle',\n",
      "                'Redwood Circle',\n",
      "                'Rincon Circle',\n",
      "                'Roosevelt Circle',\n",
      "                'San Antonio Circle',\n",
      "                'San Marcos Circle',\n",
      "                'Starr King Circle',\n",
      "                'Van Auken Circle',\n",
      "                'Van Buren Circle']),\n",
      " 'Corners': set(['Midrock Corners']),\n",
      " 'Corte': set(['Bella Corte']),\n",
      " 'Ct.': set(['Stierlin Ct.']),\n",
      " 'East': set(['Vanderbilt Court East']),\n",
      " 'Evelyn': set(['West Evelyn']),\n",
      " 'Expressway': set(['Foothill Expressway', 'Oregon Expressway']),\n",
      " 'Green': set(['Miranda Green']),\n",
      " 'Maclane': set(['Maclane']),\n",
      " 'North': set(['Magnolia Drive North']),\n",
      " 'Oaks': set(['North Fair Oaks', 'Waverley Oaks']),\n",
      " 'Paviso': set(['Via Paviso']),\n",
      " 'Rd': set(['E Middlefield Rd', 'Embarcadero Rd', 'Homestead Rd', 'Wolfe Rd']),\n",
      " 'Real': set(['E El Camino Real',\n",
      "              'Easst El Camino Real',\n",
      "              'East El Camino Real',\n",
      "              'El Camino Real',\n",
      "              'Villa Real',\n",
      "              'W El Camino Real',\n",
      "              'W. El Camino Real',\n",
      "              'West El Camino Real']),\n",
      " 'Ridge': set(['Roble Ridge']),\n",
      " 'Siding': set(['Bonair Siding']),\n",
      " 'Sorrento': set(['Via Sorrento']),\n",
      " 'South': set(['Magnolia Drive South']),\n",
      " 'St': set(['W Dana St']),\n",
      " 'Terrace': set(['Amherst Terrace',\n",
      "                 'Anaheim Terrace',\n",
      "                 'Avon Terrace',\n",
      "                 'Avoset Terrace',\n",
      "                 'Belmont Terrace',\n",
      "                 'Brea Terrace',\n",
      "                 'Bridgeport Terrace',\n",
      "                 'Bristol Terrace',\n",
      "                 'Cedarbrook Terrace',\n",
      "                 'Chabot Terrace',\n",
      "                 'Costa Mesa Terrace',\n",
      "                 'Crown Point Terrace',\n",
      "                 'Devona Terrace',\n",
      "                 'Fontana Terrace',\n",
      "                 'Hogarth Terrace',\n",
      "                 'Holthouse Terrace',\n",
      "                 'Isla Vista Terrace',\n",
      "                 'Karby Terrace',\n",
      "                 'Kearny Terrace',\n",
      "                 'Lautrec Terrace',\n",
      "                 'Lessing Terrace',\n",
      "                 'Leuven Terrace',\n",
      "                 'Liege Terrace',\n",
      "                 'Manet Terrace',\n",
      "                 'Markham Terrace',\n",
      "                 'Miller Terrace',\n",
      "                 'Oak Point Terrace',\n",
      "                 'Panache Terrace',\n",
      "                 'Pasito Terrace',\n",
      "                 'Pennyroyal Terrace',\n",
      "                 'Pescadero Terrace',\n",
      "                 'Pine Pass Terrace',\n",
      "                 'Pinnacles Terrace',\n",
      "                 'Pismo Terrace',\n",
      "                 'Pistachio Terrace',\n",
      "                 'Pumpkin Terrace',\n",
      "                 'Pyracantha Terrace',\n",
      "                 'Raines Terrace',\n",
      "                 'Redondo Terrace',\n",
      "                 'Reston Terrace',\n",
      "                 'Riorden Terrace',\n",
      "                 'Santa Rosalia Terrace',\n",
      "                 'Satsuma Terrace',\n",
      "                 'Seneca Terrace',\n",
      "                 'Spencer Terrace',\n",
      "                 'Springer Terrace',\n",
      "                 'Springfield Terrace',\n",
      "                 'Vernon Terrace',\n",
      "                 'Wilmington Terrace',\n",
      "                 'Windsor Terrace',\n",
      "                 'Wright Terrace',\n",
      "                 'Yellowstone Terrace']),\n",
      " 'Vera': set(['Villa Vera']),\n",
      " 'Village': set(['Town and Country Village']),\n",
      " 'Vista': set(['Villa Vista']),\n",
      " 'Volante': set(['Via Volante']),\n",
      " 'Walk': set(['Altaire Walk']),\n",
      " 'Way': set(['Acacia Way',\n",
      "             'Agnes Way',\n",
      "             'All America Way',\n",
      "             'Alley Way',\n",
      "             'Allison Way',\n",
      "             'Altair Way',\n",
      "             'Anaconda Way',\n",
      "             'Aries Way',\n",
      "             'Arrowhead Way',\n",
      "             'Asbury Way',\n",
      "             'Aspen Way',\n",
      "             'Avellino Way',\n",
      "             'Aztec Way',\n",
      "             'Barnsley Way',\n",
      "             'Belfry Way',\n",
      "             'Belleville Way',\n",
      "             'Bellingham Way',\n",
      "             'Berwick Way',\n",
      "             'Black Oak Way',\n",
      "             'Blanchard Way',\n",
      "             'Bond Way',\n",
      "             'Bonneville Way',\n",
      "             'Brahms Way',\n",
      "             'Briarwood Way',\n",
      "             'Burnham Way',\n",
      "             'Cardinal Way',\n",
      "             'Carlisle Way',\n",
      "             'Cass Way',\n",
      "             'Cerrito Way',\n",
      "             'Cheshire Way',\n",
      "             \"Coeur D'Alene Way\",\n",
      "             'Colinton Way',\n",
      "             'Connemara Way',\n",
      "             'Corina Way',\n",
      "             'Cork Oak Way',\n",
      "             'Corporation Way',\n",
      "             'Creek Way',\n",
      "             'Dartshire Way',\n",
      "             'Davenport Way',\n",
      "             'Devonshire Way',\n",
      "             'Dorset Way',\n",
      "             'Dublin Way',\n",
      "             'Duncardine Way',\n",
      "             'Dunford Way',\n",
      "             'Dunholme Way',\n",
      "             'Dunnock Way',\n",
      "             'Durshire Way',\n",
      "             'Duval Way',\n",
      "             'Edmonds Way',\n",
      "             'El Cajon Way',\n",
      "             'El Camino Way',\n",
      "             'Elbridge Way',\n",
      "             'Embarcadero Way',\n",
      "             'Enderby Way',\n",
      "             'Ensign Way',\n",
      "             'Enterprise Way',\n",
      "             'Fabian Way',\n",
      "             'Fay Way',\n",
      "             'Federation Way',\n",
      "             'Fife Way',\n",
      "             'Firebird Way',\n",
      "             'Flamingo Way',\n",
      "             'Flicker Way',\n",
      "             'Flin Way',\n",
      "             'Fordham Way',\n",
      "             'Forge Way',\n",
      "             'Gantry Way',\n",
      "             'Golden Way',\n",
      "             'Greenmeadow Way',\n",
      "             'Hansen Way',\n",
      "             'Harney Way',\n",
      "             'Heatherstone Way',\n",
      "             'Heron Way',\n",
      "             'Hudson Way',\n",
      "             'Humewick Way',\n",
      "             'Ilima Way',\n",
      "             'Innovation Way',\n",
      "             'Interdale Way',\n",
      "             'Iris Way',\n",
      "             'Janice Way',\n",
      "             'Kelly Way',\n",
      "             'Kingfisher Way',\n",
      "             'La Jennifer Way',\n",
      "             'La Mata Way',\n",
      "             'Laguna Way',\n",
      "             'Lennox Way',\n",
      "             'Locksunart Way',\n",
      "             'Lynn Way',\n",
      "             'Mackall Way',\n",
      "             'Madera Way',\n",
      "             'Madison Way',\n",
      "             'Mallard Way',\n",
      "             'Manuela Way',\n",
      "             'Mardell Way',\n",
      "             'Marine Way',\n",
      "             'Maybell Way',\n",
      "             'McGregor Way',\n",
      "             'Miette Way',\n",
      "             'Military Way',\n",
      "             'Murray Way',\n",
      "             'Nandina Way',\n",
      "             'Nathan Way',\n",
      "             'Nelson Way',\n",
      "             'Old Middlefield Way',\n",
      "             'Ormonde Way',\n",
      "             'Paradise Way',\n",
      "             'Parma Way',\n",
      "             'Pioneer Way',\n",
      "             'Primrose Way',\n",
      "             'Prince Edward Way',\n",
      "             'Pyrus Way',\n",
      "             'Radcliff Way',\n",
      "             'Reflection Way',\n",
      "             'Revelstoke Way',\n",
      "             \"Rickey's Way\",\n",
      "             'Rorke Way',\n",
      "             'Saffron Way',\n",
      "             'Saint Julien Way',\n",
      "             'San Clemente Way',\n",
      "             'San Luisito Way',\n",
      "             'San Pierre Way',\n",
      "             'Scarff Way',\n",
      "             'Seminole Way',\n",
      "             'Shorebird Way',\n",
      "             'Spencer Way',\n",
      "             'Stanley Way',\n",
      "             'Susan Way',\n",
      "             'Tangerine Way',\n",
      "             'Tartarian Way',\n",
      "             'Thain Way',\n",
      "             'Towle Way',\n",
      "             'Warren Way',\n",
      "             'Wellsbury Way',\n",
      "             'Whitclem Way',\n",
      "             'Wild Rose Way',\n",
      "             'Wilkie Way',\n",
      "             'Wintergreen Way',\n",
      "             'Ynigo Way',\n",
      "             'Zinfandel Way']),\n",
      " 'West': set(['Vanderbilt Court West'])}\n"
     ]
    }
   ],
   "source": [
    "def audit_street_type(street_types, street_name):\n",
    "    # add unexpected street name to a list\n",
    "    m = street_type_re.search(street_name)\n",
    "#     print m\n",
    "    if m:\n",
    "        street_type = m.group()\n",
    "#         street_type\n",
    "        if street_type not in expected:\n",
    "            street_types[street_type].add(street_name)\n",
    "            \n",
    "def is_street_name(elem):\n",
    "    # determine whether a element is a street name\n",
    "    return (elem.attrib['k'] == \"addr:street\")\n",
    "\n",
    "def audit_street(osmfile):\n",
    "    # iter through all street name tag under node or way and audit the street name value\n",
    "    osm_file = open(osmfile, \"r\")\n",
    "    street_types = defaultdict(set)\n",
    "    for event, elem in cET.iterparse(osm_file, events=(\"start\",\"end\")):\n",
    "        if elem.tag == \"node\" or elem.tag == \"way\":\n",
    "            for tag in elem.iter(\"tag\"):\n",
    "                if is_street_name(tag):\n",
    "                    audit_street_type(street_types, tag.attrib['v'])\n",
    "    return street_types\n",
    "if __name__ == '__main__':\n",
    "    st_types = audit_street(MountainViewosm)\n",
    "    # print out unexpected street names\n",
    "    pprint.pprint(dict(st_types))\n",
    "\n",
    "\n"
   ]
  },
  {
   "cell_type": "markdown",
   "metadata": {},
   "source": [
    "#### Update the street name ###"
   ]
  },
  {
   "cell_type": "code",
   "execution_count": 7,
   "metadata": {
    "collapsed": false
   },
   "outputs": [
    {
     "name": "stdout",
     "output_type": "stream",
     "text": [
      "Villa Vista => Villa Vista\n",
      "Roble Ridge => Roble Ridge\n",
      "Vanderbilt Court West => Vanderbilt Court West\n",
      "Wolfe Rd => Wolfe Road\n",
      "Homestead Rd => Homestead Road\n",
      "E Middlefield Rd => E Middlefield Road\n",
      "Embarcadero Rd => Embarcadero Road\n",
      "West Evelyn Avenue Suite #114 => West Evelyn Avenuenue Suite\n",
      "Serra San Bruno => Serra San Bruno\n",
      "Devonshire Way => Devonshire Way\n",
      "Aspen Way => Aspen Way\n",
      "Flicker Way => Flicker Way\n",
      "Asbury Way => Asbury Way\n",
      "Davenport Way => DAvenuenuenport Way\n",
      "Madera Way => Madera Way\n",
      "Wintergreen Way => Wintergreen Way\n",
      "La Jennifer Way => La Jennifer Way\n",
      "Hansen Way => Hansen Way\n",
      "Murray Way => Murray Way\n",
      "Elbridge Way => Elbridge Way\n",
      "Enderby Way => Enderby Way\n",
      "Acacia Way => Acacia Way\n",
      "Alley Way => Alley Way\n",
      "Brahms Way => Brahms Way\n",
      "Primrose Way => Primrose Way\n",
      "Bond Way => Bond Way\n",
      "Hudson Way => Hudson Way\n",
      "Dunnock Way => Dunnock Way\n",
      "Golden Way => Golden Way\n",
      "Forge Way => Forge Way\n",
      "Anaconda Way => Anaconda Way\n",
      "Prince Edward Way => Prince Edward Way\n",
      "Old Middlefield Way => Old Middlefield Way\n",
      "Allison Way => Allison Way\n",
      "Cerrito Way => Cerrito Way\n",
      "Laguna Way => Laguna Way\n",
      "Duncardine Way => Duncardine Way\n",
      "Lennox Way => Lennox Way\n",
      "Kelly Way => Kelly Way\n",
      "Firebird Way => Firebird Way\n",
      "Ormonde Way => Ormonde Way\n",
      "McGregor Way => McGregor Way\n",
      "Mackall Way => Mackall Way\n",
      "Stanley Way => Stanley Way\n",
      "Fabian Way => Fabian Way\n",
      "Enterprise Way => Enterprise Way\n",
      "Edmonds Way => Edmonds Way\n",
      "Aries Way => Aries Way\n",
      "Corina Way => Corina Way\n",
      "Cheshire Way => Cheshire Way\n",
      "Janice Way => Janice Way\n",
      "Berwick Way => Berwick Way\n",
      "Harney Way => Harney Way\n",
      "Iris Way => Iris Way\n",
      "Fordham Way => Fordham Way\n",
      "Saffron Way => Saffron Way\n",
      "Wilkie Way => Wilkie Way\n",
      "Fay Way => Fay Way\n",
      "Briarwood Way => Briarwood Way\n",
      "Nathan Way => Nathan Way\n",
      "Dunford Way => Dunford Way\n",
      "Ensign Way => Ensign Way\n",
      "Connemara Way => Connemara Way\n",
      "Reflection Way => Reflection Way\n",
      "Flin Way => Flin Way\n",
      "Mardell Way => Mardell Way\n",
      "Innovation Way => Innovation Way\n",
      "Interdale Way => Interdale Way\n",
      "Mallard Way => Mallard Way\n",
      "Marine Way => Marine Way\n",
      "Ilima Way => Ilima Way\n",
      "Black Oak Way => Black Oak Way\n",
      "Belfry Way => Belfry Way\n",
      "Warren Way => Warren Way\n",
      "Gantry Way => Gantry Way\n",
      "Barnsley Way => Barnsley Way\n",
      "Heatherstone Way => Heatherstone Way\n",
      "Scarff Way => Scarff Way\n",
      "Manuela Way => Manuela Way\n",
      "Blanchard Way => Blanchard Way\n",
      "Corporation Way => Corporation Way\n",
      "Madison Way => Madison Way\n",
      "Flamingo Way => Flamingo Way\n",
      "Locksunart Way => Locksunart Way\n",
      "Ynigo Way => Ynigo Way\n",
      "Dorset Way => Dorset Way\n",
      "Lynn Way => Lynn Way\n",
      "Arrowhead Way => Arrowhead Way\n",
      "Durshire Way => Durshire Way\n",
      "Carlisle Way => Carlisle Way\n",
      "Spencer Way => Spencer Way\n",
      "Agnes Way => Agnes Way\n",
      "Rickey's Way => Rickey's Way\n",
      "Pyrus Way => Pyrus Way\n",
      "La Mata Way => La Mata Way\n",
      "Embarcadero Way => Embarcadero Way\n",
      "Rorke Way => Rorke Way\n",
      "Shorebird Way => Shorebird Way\n",
      "San Pierre Way => San Pierre Way\n",
      "Bellingham Way => Bellingham Way\n",
      "Humewick Way => Humewick Way\n",
      "Wild Rose Way => Wild Rose Way\n",
      "Miette Way => Miette Way\n",
      "Saint Julien Way => Saint Julien Way\n",
      "Dartshire Way => Dartshire Way\n",
      "El Camino Way => El Camino Way\n",
      "Coeur D'Alene Way => Coeur D'Alene Way\n",
      "Dublin Way => Dublin Way\n",
      "Seminole Way => Seminole Way\n",
      "Federation Way => Federation Way\n",
      "Tartarian Way => Tartarian Way\n",
      "Parma Way => Parma Way\n",
      "Towle Way => Towle Way\n",
      "Whitclem Way => Whitclem Way\n",
      "Burnham Way => Burnham Way\n",
      "Creek Way => Creek Way\n",
      "Fife Way => Fife Way\n",
      "Heron Way => Heron Way\n",
      "Wellsbury Way => Wellsbury Way\n",
      "Pioneer Way => Pioneer Way\n",
      "Aztec Way => Aztec Way\n",
      "Altair Way => Altair Way\n",
      "Maybell Way => Maybell Way\n",
      "Duval Way => Duval Way\n",
      "Paradise Way => Paradise Way\n",
      "Colinton Way => Colinton Way\n",
      "Radcliff Way => Radcliff Way\n",
      "San Clemente Way => San Clemente Way\n",
      "Dunholme Way => Dunholme Way\n",
      "Bonneville Way => Bonneville Way\n",
      "Nandina Way => Nandina Way\n",
      "Greenmeadow Way => Greenmeadow Way\n",
      "Thain Way => Thain Way\n",
      "Revelstoke Way => Revelstoke Way\n",
      "San Luisito Way => San Luisito Way\n",
      "All America Way => All America Way\n",
      "Tangerine Way => Tangerine Way\n",
      "Susan Way => Susan Way\n",
      "Kingfisher Way => Kingfisher Way\n",
      "Cass Way => Cass Way\n",
      "Nelson Way => Nelson Way\n",
      "Belleville Way => Belleville Way\n",
      "Military Way => Military Way\n",
      "Cardinal Way => Cardinal Way\n",
      "El Cajon Way => El Cajon Way\n",
      "Zinfandel Way => Zinfandel Way\n",
      "Avellino Way => Avenuellino Way\n",
      "Cork Oak Way => Cork Oak Way\n",
      "Plaza Central => Plaza Central\n",
      "Redwood Circle => Redwood Circle\n",
      "Starr King Circle => Starr King Circle\n",
      "Duluth Circle => Duluth Circle\n",
      "Bobolink Circle => Bobolink Circle\n",
      "Distel Circle => Distel Circle\n",
      "Comstock Circle => Comstock Circle\n",
      "Continental Circle => Continental Circle\n",
      "San Marcos Circle => San Marcos Circle\n",
      "Roosevelt Circle => Roosevelt Circle\n",
      "Rincon Circle => Rincon Circle\n",
      "East Meadow Circle => East Meadow Circle\n",
      "Moffett Circle => Moffett Circle\n",
      "Marcelli Circle => Marcelli Circle\n",
      "San Antonio Circle => San Antonio Circle\n",
      "Van Auken Circle => Van Auken Circle\n",
      "Van Buren Circle => Van Buren Circle\n",
      "Carlson Circle => Carlson Circle\n",
      "Metro Circle => Metro Circle\n",
      "Los Palos Circle => Los Palos Circle\n",
      "Oregon Expressway => Oregon Expressway\n",
      "Foothill Expressway => Foothill Expressway\n",
      "Waverley Oaks => WAvenuenuerley Oaks\n",
      "North Fair Oaks => North Fair Oaks\n",
      "E El Camino Real => East El Camino Real\n",
      "W. El Camino Real => West El Camino Real\n",
      "East El Camino Real => East El Camino Real\n",
      "Easst El Camino Real => Easst El Camino Real\n",
      "El Camino Real => El Camino Real\n",
      "Villa Real => Villa Real\n",
      "W El Camino Real => West El Camino Real\n",
      "West El Camino Real => West El Camino Real\n",
      "Vanderbilt Court East => Vanderbilt Court East\n",
      "Magnolia Drive North => Magnolia Drive North\n",
      "Via Paviso => Via Paviso\n",
      "Villa Vera => Villa Vera\n",
      "Showers Drive STE 2 => Showers Drive Street\n",
      "Magnolia Drive South => Magnolia Drive South\n",
      "Showers Drive STE 7 => Showers Drive Street\n",
      "Via Volante => Via Volante\n",
      "Showers Drive BLDG AA => Showers Drive Building Aberdeen Athletic Center\n",
      "Plymouth Street #C => Plymouth Street\n",
      "Leghorn Street #B => Leghorn Street\n",
      "Menalto Ave. => Menalto Avenuenue\n",
      "Hamilton Ave #140 => Hamilton Avenue\n",
      "Midrock Corners => Midrock Corners\n",
      "Maclane => Maclane\n",
      "W Dana St => W Dana St\n",
      "La Calle => La Calle\n",
      "East Charleston Road APT 9 => East Charleston Road Apartment\n",
      "Bonair Siding => Bonair Siding\n",
      "Miranda Green => Miranda Green\n",
      "Stierlin Ct. => Stierlin Court\n",
      "Via Sorrento => Via Sorrento\n",
      "West Evelyn => West Evelyn\n",
      "Jackson Alley => Jackson Alley\n",
      "Altaire Walk => Altaire Walk\n",
      "Leuven Terrace => Leuven Terrace\n",
      "Holthouse Terrace => Holthouse Terrace\n",
      "Pasito Terrace => Pasito Terrace\n",
      "Riorden Terrace => Riorden Terrace\n",
      "Yellowstone Terrace => Yellowstone Terrace\n",
      "Springfield Terrace => Springfield Terrace\n",
      "Oak Point Terrace => Oak Point Terrace\n",
      "Windsor Terrace => Windsor Terrace\n",
      "Costa Mesa Terrace => Costa Mesa Terrace\n",
      "Pescadero Terrace => Pescadero Terrace\n",
      "Belmont Terrace => Belmont Terrace\n",
      "Lessing Terrace => Lessing Terrace\n",
      "Liege Terrace => Liege Terrace\n",
      "Satsuma Terrace => Satsuma Terrace\n",
      "Avon Terrace => Avon Terrace\n",
      "Wright Terrace => Wright Terrace\n",
      "Wilmington Terrace => Wilmington Terrace\n",
      "Raines Terrace => Raines Terrace\n",
      "Spencer Terrace => Spencer Terrace\n",
      "Manet Terrace => Manet Terrace\n",
      "Redondo Terrace => Redondo Terrace\n",
      "Pyracantha Terrace => Pyracantha Terrace\n",
      "Pistachio Terrace => Pistachio Terrace\n",
      "Pinnacles Terrace => Pinnacles Terrace\n",
      "Santa Rosalia Terrace => Santa Rosalia Terrace\n",
      "Brea Terrace => Brea Terrace\n",
      "Springer Terrace => Springer Terrace\n",
      "Karby Terrace => Karby Terrace\n",
      "Hogarth Terrace => Hogarth Terrace\n",
      "Chabot Terrace => Chabot Terrace\n",
      "Fontana Terrace => Fontana Terrace\n",
      "Avoset Terrace => Avoset Terrace\n",
      "Lautrec Terrace => Lautrec Terrace\n",
      "Markham Terrace => Markham Terrace\n",
      "Devona Terrace => Devona Terrace\n",
      "Anaheim Terrace => Anaheim Terrace\n",
      "Pennyroyal Terrace => Pennyroyal Terrace\n",
      "Vernon Terrace => Vernon Terrace\n",
      "Crown Point Terrace => Crown Point Terrace\n",
      "Amherst Terrace => Amherst Terrace\n",
      "Bridgeport Terrace => Bridgeport Terrace\n",
      "Kearny Terrace => Kearny Terrace\n",
      "Panache Terrace => Panache Terrace\n",
      "Cedarbrook Terrace => Cedarbrook Terrace\n",
      "Pumpkin Terrace => Pumpkin Terrace\n",
      "Reston Terrace => Reston Terrace\n",
      "Miller Terrace => Miller Terrace\n",
      "Bristol Terrace => Bristol Terrace\n",
      "Seneca Terrace => Seneca Terrace\n",
      "Isla Vista Terrace => Isla Vista Terrace\n",
      "Pine Pass Terrace => Pine Pass Terrace\n",
      "Pismo Terrace => Pismo Terrace\n",
      "Town and Country Village => Town and Country Village\n",
      "E Duane Ave => E Duane Avenue\n",
      "S California Ave => S California Avenue\n",
      "El Monte Ave => El Monte Avenue\n",
      "Portage Ave => Portage Avenue\n",
      "University Ave => University Avenue\n",
      "W Washington Ave => W Washington Avenue\n",
      "California Ave => California Avenue\n",
      "W Maude Ave => W Maude Avenue\n",
      "Hollenbeck Ave => Hollenbeck Avenue\n",
      "Bella Corte => Bella Corte\n"
     ]
    }
   ],
   "source": [
    "# Street name updatation\n",
    "# creating a dictionary for correcting street names\n",
    "mapping = { \"AA\" :\"Aberdeen Athletic Center\",\n",
    "            \"Ct\": \"Court\",\n",
    "            \"Ct.\": \"Court\",\n",
    "            \"St.\": \"Street\",\n",
    "            \"St,\": \"Street\",\n",
    "            \"ST\": \"Street\",\n",
    "            \"street\": \"Street\",\n",
    "            \"STE\": \"Street\",\n",
    "            \"Ave\": \"Avenue\",\n",
    "            \"Ave.\": \"Avenue\",\n",
    "            \"ave\": \"Avenue\",\n",
    "            \"Rd.\": \"Road\",   \n",
    "            \"rd.\": \"Road\",\n",
    "            \"Rd\": \"Road\",    \n",
    "            \"Hwy\": \"Highway\",\n",
    "            \"HIghway\": \"Highway\",\n",
    "            \"BLDG\": \"Building\",\n",
    "            \"APT\": \"Apartment\",\n",
    "           \"West Evelyn Avenue Suite #114\":\"West Evelyn Avenue Suite\",\n",
    "           \"Showers Drive STE 2\": \"Showers Drive Street\",\n",
    "           \"Showers Drive STE 7\": \"Showers Drive Street\",\n",
    "           \"East Charleston Road APT 9\": \"East Charleston Road Apartment\",\n",
    "           \"Leghorn Street #B\": \"Leghorn Street\",\n",
    "           \"Plymouth Street #C\": \"Plymouth Street\",\n",
    "           \"Hamilton Ave #140\": \"Hamilton Ave\",\n",
    "           \"W. El Camino Real\": \"West El Camino Real\",\n",
    "           \"W El Camino Real\":\"West El Camino Real\",\n",
    "           \"E. El Camino Real\": \"East El Camino Real\",\n",
    "           \"E El Camino Real\" : \"East El Camino Real\",\n",
    "           \"West Dana St\": \"West Dana Street\"\n",
    "           }\n",
    "           \n",
    "                     \n",
    "# function that corrects incorrect street names\n",
    "def update_name(name, mapping):    \n",
    "    for key in mapping:\n",
    "        if key in name:\n",
    "            name = string.replace(name,key,mapping[key])\n",
    "    return name\n",
    "if __name__ == '__main__':\n",
    "    for st_type, ways in st_types.iteritems():\n",
    "        for name in ways:\n",
    "            better_name = update_name(name, mapping)\n",
    "            print name, \"=>\", better_name"
   ]
  },
  {
   "cell_type": "code",
   "execution_count": 8,
   "metadata": {
    "collapsed": false,
    "scrolled": true
   },
   "outputs": [
    {
     "name": "stdout",
     "output_type": "stream",
     "text": [
      "30188 1\n",
      "95014-0137 1\n",
      "95014-6357 1\n",
      "95014-030 1\n",
      "95014-0497 1\n",
      "95014-0496 1\n",
      "95014-0495 1\n",
      "95014-0494 1\n",
      "95014-0493 1\n",
      "95014-0492 2\n",
      "95014-0556 1\n",
      "95014-0552 4\n",
      "95014-0499 1\n",
      "95014-0551 4\n",
      "95014-6340 1\n",
      "95014-6342 1\n",
      "95014-6344 1\n",
      "95014-6346 1\n",
      "95014-6348 1\n",
      "95014-0549 10\n",
      "95014-0548 10\n",
      "95014-0545 9\n",
      "95014-0547 4\n",
      "95014-0546 5\n",
      "95014-0540 5\n",
      "95014-0116 7\n",
      "95014-0117 3\n",
      "95014-0114 1\n",
      "95014-0115 6\n",
      "95014-0112 3\n",
      "95014-0113 1\n",
      "95014-0111 1\n",
      "95014-0448 6\n",
      "95051 23\n",
      "95014-0444 12\n",
      "95014-0445 8\n",
      "95014-0446 5\n",
      "95014-0447 4\n",
      "95014-0440 3\n",
      "95014-0607 1\n",
      "95014-6371 1\n",
      "95014-0102 2\n",
      "95014-0103 4\n",
      "95014-0353 1\n",
      "95014-0453 5\n",
      "95014-0451 8\n",
      "95014-0450 1\n",
      "95014-0457 10\n",
      "95014-0456 10\n",
      "95014-0455 5\n",
      "95014-0454 5\n",
      "95014-6363 1\n",
      "95014-6360 1\n",
      "95014-0565 5\n",
      "95014-0564 4\n",
      "95014-0560 3\n",
      "CA 94085 1\n",
      "CA 94086 1\n",
      "95014-0202 1\n",
      "95014-0200 1\n",
      "95014-0568 8\n",
      "95014-0500 1\n",
      "95014-0292 1\n",
      "95014-6318 5\n",
      "95014-6319 3\n",
      "95014-6316 8\n",
      "95014-6317 5\n",
      "95014-6314 3\n",
      "95014-6315 7\n",
      "95014-6561 1\n",
      "95014-6560 5\n",
      "95014-6562 5\n",
      "95014-0535 4\n",
      "95014-0536 2\n",
      "95014-0531 4\n",
      "95014-0532 5\n",
      "95014-0533 4\n",
      "95014-0538 3\n",
      "95014-0539 1\n",
      "95014-0434 1\n",
      "95014-0437 9\n",
      "95014-0436 1\n",
      "95014-0433 1\n",
      "95014-0439 1\n",
      "95014-0438 6\n",
      "95086 1\n",
      "95014-6557 9\n",
      "95014-6385 1\n",
      "95014-6381 1\n",
      "95014-0550 6\n",
      "95014-0449 8\n",
      "95014-0240 1\n",
      "95014-0400 1\n",
      "95014-6334 1\n",
      "95014-0721 1\n",
      "95014 26\n",
      "95014-6540 1\n",
      "95014-0129 2\n",
      "95014-0124 5\n",
      "95014-0123 4\n",
      "95014-0238 1\n",
      "95014-0143 3\n",
      "95014-0144 3\n",
      "95014-6322 1\n",
      "515 1\n",
      "95014-0529 5\n",
      "95014-6539 1\n"
     ]
    }
   ],
   "source": [
    "# zip code\n",
    "def audit_zipcodes(osmfile):\n",
    "    # iter through all zip codes, collect all the zip codes that does not start with 94\n",
    "    osm_file = open(osmfile, \"r\")\n",
    "    zip_codes = {}\n",
    "    for event, elem in cET.iterparse(osm_file, events=(\"start\",)):\n",
    "        if elem.tag == \"node\" or elem.tag == \"way\":\n",
    "            for tag in elem.iter(\"tag\"):\n",
    "                if tag.attrib['k'] == \"addr:postcode\" and not tag.attrib['v'].startswith('94'):\n",
    "                    if tag.attrib['v'] not in zip_codes:\n",
    "                        zip_codes[tag.attrib['v']] = 1\n",
    "                    else:\n",
    "                        zip_codes[tag.attrib['v']] += 1\n",
    "    return zip_codes\n",
    "\n",
    "zipcodes = audit_zipcodes(MountainViewosm)\n",
    "for zipcode in zipcodes:\n",
    "    print zipcode, zipcodes[zipcode]\n",
    "# zipcodes"
   ]
  },
  {
   "cell_type": "markdown",
   "metadata": {},
   "source": [
    "#### strategy for updating zip code ###\n",
    "\n",
    "Since the data also includes the area of Santa Clara, Cupetino, San Jose and Sunnyvale. I have only updated he zipcode of Moutain view which stats from '94' using mapping dictionary."
   ]
  },
  {
   "cell_type": "code",
   "execution_count": 70,
   "metadata": {
    "collapsed": false
   },
   "outputs": [
    {
     "name": "stdout",
     "output_type": "stream",
     "text": [
      "30188 => 30188\n",
      "95014-0137 => 95014-0137\n",
      "95014-6357 => 95014-6357\n",
      "95014-030 => 95014-030\n",
      "95014-0497 => 95014-0497\n",
      "95014-0496 => 95014-0496\n",
      "95014-0495 => 95014-0495\n",
      "95014-0494 => 95014-0494\n",
      "95014-0493 => 95014-0493\n",
      "95014-0492 => 95014-0492\n",
      "95014-0556 => 95014-0556\n",
      "95014-0552 => 95014-0552\n",
      "95014-0499 => 95014-0499\n",
      "95014-0551 => 95014-0551\n",
      "95014-6340 => 95014-6340\n",
      "95014-6342 => 95014-6342\n",
      "95014-6344 => 95014-6344\n",
      "95014-6346 => 95014-6346\n",
      "95014-6348 => 95014-6348\n",
      "95014-0549 => 95014-0549\n",
      "95014-0548 => 95014-0548\n",
      "95014-0545 => 95014-0545\n",
      "95014-0547 => 95014-0547\n",
      "95014-0546 => 95014-0546\n",
      "95014-0540 => 95014-0540\n",
      "95014-0116 => 95014-0116\n",
      "95014-0117 => 95014-0117\n",
      "95014-0114 => 95014-0114\n",
      "95014-0115 => 95014-0115\n",
      "95014-0112 => 95014-0112\n",
      "95014-0113 => 95014-0113\n",
      "95014-0111 => 95014-0111\n",
      "95014-0448 => 95014-0448\n",
      "95051 => 95051\n",
      "95014-0444 => 95014-0444\n",
      "95014-0445 => 95014-0445\n",
      "95014-0446 => 95014-0446\n",
      "95014-0447 => 95014-0447\n",
      "95014-0440 => 95014-0440\n",
      "95014-0607 => 95014-0607\n",
      "95014-6371 => 95014-6371\n",
      "95014-0102 => 95014-0102\n",
      "95014-0103 => 95014-0103\n",
      "95014-0353 => 95014-0353\n",
      "95014-0453 => 95014-0453\n",
      "95014-0451 => 95014-0451\n",
      "95014-0450 => 95014-0450\n",
      "95014-0457 => 95014-0457\n",
      "95014-0456 => 95014-0456\n",
      "95014-0455 => 95014-0455\n",
      "95014-0454 => 95014-0454\n",
      "95014-6363 => 95014-6363\n",
      "95014-6360 => 95014-6360\n",
      "95014-0565 => 95014-0565\n",
      "95014-0564 => 95014-0564\n",
      "95014-0560 => 95014-0560\n",
      "CA 94085 => 94085\n",
      "CA 94086 => CA 94086\n",
      "95014-0202 => 95014-0202\n",
      "95014-0200 => 95014-0200\n",
      "95014-0568 => 95014-0568\n",
      "95014-0500 => 95014-0500\n",
      "95014-0292 => 95014-0292\n",
      "95014-6318 => 95014-6318\n",
      "95014-6319 => 95014-6319\n",
      "95014-6316 => 95014-6316\n",
      "95014-6317 => 95014-6317\n",
      "95014-6314 => 95014-6314\n",
      "95014-6315 => 95014-6315\n",
      "95014-6561 => 95014-6561\n",
      "95014-6560 => 95014-6560\n",
      "95014-6562 => 95014-6562\n",
      "95014-0535 => 95014-0535\n",
      "95014-0536 => 95014-0536\n",
      "95014-0531 => 95014-0531\n",
      "95014-0532 => 95014-0532\n",
      "95014-0533 => 95014-0533\n",
      "95014-0538 => 95014-0538\n",
      "95014-0539 => 95014-0539\n",
      "95014-0434 => 95014-0434\n",
      "95014-0437 => 95014-0437\n",
      "95014-0436 => 95014-0436\n",
      "95014-0433 => 95014-0433\n",
      "95014-0439 => 95014-0439\n",
      "95014-0438 => 95014-0438\n",
      "95086 => 95086\n",
      "95014-6557 => 95014-6557\n",
      "95014-6385 => 95014-6385\n",
      "95014-6381 => 95014-6381\n",
      "95014-0550 => 95014-0550\n",
      "95014-0449 => 95014-0449\n",
      "95014-0240 => 95014-0240\n",
      "95014-0400 => 95014-0400\n",
      "95014-6334 => 95014-6334\n",
      "95014-0721 => 95014-0721\n",
      "95014 => 95014\n",
      "95014-6540 => 95014-6540\n",
      "95014-0129 => 95014-0129\n",
      "95014-0124 => 95014-0124\n",
      "95014-0123 => 95014-0123\n",
      "95014-0238 => 95014-0238\n",
      "95014-0143 => 95014-0143\n",
      "95014-0144 => 95014-0144\n",
      "95014-6322 => 95014-6322\n",
      "515 => 515\n",
      "95014-0529 => 95014-0529\n",
      "95014-6539 => 95014-6539\n"
     ]
    }
   ],
   "source": [
    "\n",
    "\n",
    "mapping = { \"CA 94085\":\"94085\",\n",
    "            \"CA 94086\":\"94086\"\n",
    "           }\n",
    "           \n",
    "                     \n",
    "# function that corrects incorrect street names\n",
    "def update_zipcode(zipcode, mapping):    \n",
    "    for key in mapping:\n",
    "        if key in zipcode:\n",
    "            zipcode = string.replace(zipcode, key,mapping[key])\n",
    "        return zipcode\n",
    "       \n",
    "          \n",
    "if __name__ == '__main__':\n",
    "    for zipcode in zipcodes:\n",
    "        better_zipcode = update_zipcode(zipcode, mapping)\n",
    "        print zipcode, \"=>\", better_zipcode\n",
    "        "
   ]
  },
  {
   "cell_type": "code",
   "execution_count": null,
   "metadata": {
    "collapsed": true
   },
   "outputs": [],
   "source": [
    "# Audit phone number"
   ]
  },
  {
   "cell_type": "markdown",
   "metadata": {},
   "source": [
    "\n",
    "\n",
    "#### Process OSM XML file to JSON ###\n",
    "Only the elements of type “node” and “way” will be imported to the database. The data model we’re going to use follows the format of this example:\n",
    "{\n",
    "\"id\": \"2406124091\",\n",
    "\"type: \"node\",\n",
    "\"visible\":\"true\",\n",
    "\"created\": {\n",
    "         \"version\":\"2\",\n",
    "         \"changeset\":\"17206049\",\n",
    "         \"timestamp\":\"2013-08-03T16:43:42Z\",\n",
    "         \"user\":\"linuxUser16\",\n",
    "         \"uid\":\"1219059\"\n",
    "       },\n",
    "\"pos\": [41.9757030, -87.6921867],\n",
    "\"address\": {\n",
    "         \"housenumber\": \"5157\",\n",
    "         \"postcode\": \"60625\",\n",
    "         \"street\": \"North Lincoln Ave\"\n",
    "       },\n",
    "\"amenity\": \"restaurant\",\n",
    "\"cuisine\": \"mexican\",\n",
    "\"name\": \"La Cabana De Don Luis\",\n",
    "\"phone\": \"1 (773)-271-5176\"\n",
    "}\n",
    "\n"
   ]
  },
  {
   "cell_type": "code",
   "execution_count": 11,
   "metadata": {
    "collapsed": true
   },
   "outputs": [],
   "source": [
    "\n",
    "CREATED = [ \"version\", \"changeset\", \"timestamp\", \"user\", \"uid\"]\n",
    "def shape_element(element):\n",
    "    node = {}\n",
    "    node[\"created\"]={}\n",
    "    node[\"address\"]={}\n",
    "    node[\"pos\"]=[]\n",
    "#     node[\"amenity\"] ={}\n",
    "#     node[\"cuisine\"] = {}\n",
    "    refs=[]\n",
    "    \n",
    "    # I only process the node and way tags\n",
    "    if element.tag == \"node\" or element.tag == \"way\" :\n",
    "        if \"id\" in element.attrib:\n",
    "            node[\"id\"]=element.attrib[\"id\"]\n",
    "        node[\"type\"]=element.tag\n",
    "\n",
    "        if \"visible\" in element.attrib.keys():\n",
    "            node[\"visible\"]=element.attrib[\"visible\"]\n",
    "      \n",
    "        # the key-value pairs with attributes in the CREATED list are added under key \"created\"\n",
    "        for elem in CREATED:\n",
    "            if elem in element.attrib:\n",
    "                node[\"created\"][elem]=element.attrib[elem]\n",
    "                \n",
    "        # attributes for latitude and longitude are added to a \"pos\" array\n",
    "        # include latitude value        \n",
    "        if \"lat\" in element.attrib:\n",
    "            node[\"pos\"].append(float(element.attrib[\"lat\"]))\n",
    "        # include longitude value    \n",
    "        if \"lon\" in element.attrib:\n",
    "            node[\"pos\"].append(float(element.attrib[\"lon\"]))\n",
    "\n",
    "        \n",
    "        for tag in element.iter(\"tag\"):\n",
    "            if not(problemchars.search(tag.attrib['k'])):\n",
    "                if tag.attrib['k'] == \"addr:housenumber\":\n",
    "                    node[\"address\"][\"housenumber\"]=tag.attrib['v']\n",
    "                    \n",
    "                if tag.attrib['k'] == \"addr:postcode\":\n",
    "                    node[\"address\"][\"postcode\"]=tag.attrib['v']\n",
    "                \n",
    "                # handling the street attribute, update incorrect names using the strategy developed before   \n",
    "                if tag.attrib['k'] == \"addr:street\":\n",
    "                    node[\"address\"][\"street\"]=tag.attrib['v']\n",
    "                    node[\"address\"][\"street\"] = update_name(node[\"address\"][\"street\"], mapping)\n",
    "\n",
    "                if tag.attrib['k'].find(\"addr\")==-1:\n",
    "                    node[tag.attrib['k']]=tag.attrib['v']\n",
    "                    \n",
    "        for nd in element.iter(\"nd\"):\n",
    "             refs.append(nd.attrib[\"ref\"])\n",
    "                \n",
    "        if node[\"address\"] =={}:\n",
    "            node.pop(\"address\", None)\n",
    "\n",
    "        if refs != []:\n",
    "           node[\"node_refs\"]=refs\n",
    "            \n",
    "        return node\n",
    "    else:\n",
    "        return None\n",
    "\n",
    "\n",
    "\n",
    "def process_map(file_in, pretty = False):\n",
    "    file_out = \"{0}.json\".format(file_in)\n",
    "    data = []\n",
    "    with codecs.open(file_out, \"w\") as fo:\n",
    "        for _, element in cET.iterparse(file_in):\n",
    "            el = shape_element(element)\n",
    "            if el:\n",
    "                data.append(el)\n",
    "                if pretty:\n",
    "                    fo.write(json.dumps(el, indent=2)+\"\\n\")\n",
    "                else:\n",
    "                    fo.write(json.dumps(el) + \"\\n\")\n",
    "    return data"
   ]
  },
  {
   "cell_type": "code",
   "execution_count": null,
   "metadata": {
    "collapsed": false
   },
   "outputs": [],
   "source": [
    "# process the file\n",
    "data = process_map(MountainViewosm, True)\n",
    "# for d in data:\n",
    "#     print d\n"
   ]
  },
  {
   "cell_type": "markdown",
   "metadata": {},
   "source": [
    "#### Insert the JSON data into MongoDB Database ####"
   ]
  },
  {
   "cell_type": "code",
   "execution_count": null,
   "metadata": {
    "collapsed": false
   },
   "outputs": [],
   "source": [
    "client = MongoClient()\n",
    "db = client.MountainViewosm\n",
    "collection = db.MountainViewMAP\n",
    "collection.insert(data)"
   ]
  },
  {
   "cell_type": "markdown",
   "metadata": {},
   "source": [
    "#### Size of original XML file ####"
   ]
  },
  {
   "cell_type": "code",
   "execution_count": 22,
   "metadata": {
    "collapsed": false
   },
   "outputs": [
    {
     "data": {
      "text/plain": [
       "209"
      ]
     },
     "execution_count": 22,
     "metadata": {},
     "output_type": "execute_result"
    }
   ],
   "source": [
    "\n",
    "os.path.getsize(os.path.join(path, \"MountainView.osm\"))/1024/1024"
   ]
  },
  {
   "cell_type": "markdown",
   "metadata": {},
   "source": [
    "#### Size of processed JSON  file ####"
   ]
  },
  {
   "cell_type": "code",
   "execution_count": 14,
   "metadata": {
    "collapsed": false
   },
   "outputs": [
    {
     "data": {
      "text/plain": [
       "346"
      ]
     },
     "execution_count": 14,
     "metadata": {},
     "output_type": "execute_result"
    }
   ],
   "source": [
    "\n",
    "os.path.getsize(os.path.join(path, \"MountainView.osm.json\"))/1024/1024"
   ]
  },
  {
   "cell_type": "markdown",
   "metadata": {
    "collapsed": true
   },
   "source": [
    "#### Number of documents ####"
   ]
  },
  {
   "cell_type": "code",
   "execution_count": 15,
   "metadata": {
    "collapsed": false
   },
   "outputs": [
    {
     "data": {
      "text/plain": [
       "5754659"
      ]
     },
     "execution_count": 15,
     "metadata": {},
     "output_type": "execute_result"
    }
   ],
   "source": [
    "collection.find().count()\n"
   ]
  },
  {
   "cell_type": "markdown",
   "metadata": {
    "collapsed": true
   },
   "source": [
    "#### Number of unique users ####"
   ]
  },
  {
   "cell_type": "code",
   "execution_count": 19,
   "metadata": {
    "collapsed": false
   },
   "outputs": [
    {
     "data": {
      "text/plain": [
       "880"
      ]
     },
     "execution_count": 19,
     "metadata": {},
     "output_type": "execute_result"
    }
   ],
   "source": [
    "# Number of unique users\n",
    "len(collection.group([\"created.uid\"], {}, {\"count\":0}, \"function(o, p){p.count++}\"))\n"
   ]
  },
  {
   "cell_type": "markdown",
   "metadata": {
    "collapsed": true
   },
   "source": [
    "#### Number of nodes ####"
   ]
  },
  {
   "cell_type": "code",
   "execution_count": 20,
   "metadata": {
    "collapsed": false
   },
   "outputs": [
    {
     "data": {
      "text/plain": [
       "5136303"
      ]
     },
     "execution_count": 20,
     "metadata": {},
     "output_type": "execute_result"
    }
   ],
   "source": [
    "# Number of nodes\n",
    "collection.find({\"type\":\"node\"}).count()"
   ]
  },
  {
   "cell_type": "markdown",
   "metadata": {
    "collapsed": true
   },
   "source": [
    "#### Number of ways ####"
   ]
  },
  {
   "cell_type": "code",
   "execution_count": 21,
   "metadata": {
    "collapsed": false
   },
   "outputs": [
    {
     "data": {
      "text/plain": [
       "618301"
      ]
     },
     "execution_count": 21,
     "metadata": {},
     "output_type": "execute_result"
    }
   ],
   "source": [
    "collection.find({\"type\":\"way\"}).count()"
   ]
  },
  {
   "cell_type": "markdown",
   "metadata": {
    "collapsed": true
   },
   "source": [
    "#### Top 10 methods used to create data entry ####"
   ]
  },
  {
   "cell_type": "code",
   "execution_count": 38,
   "metadata": {
    "collapsed": false
   },
   "outputs": [
    {
     "name": "stdout",
     "output_type": "stream",
     "text": [
      "{u'count': 5746814, u'_id': None}\n",
      "{u'count': 4363, u'_id': u'JOSM'}\n",
      "{u'count': 1490, u'_id': u'Potlatch 0.10f'}\n",
      "{u'count': 896, u'_id': u'Potlatch 0.9c'}\n",
      "{u'count': 290, u'_id': u'Potlatch 0.10b'}\n",
      "{u'count': 243, u'_id': u'Potlatch 0.10'}\n",
      "{u'count': 215, u'_id': u'Potlatch 0.8c'}\n",
      "{u'count': 105, u'_id': u'Potlatch 0.9a'}\n",
      "{u'count': 98, u'_id': u'Potlatch 0.10e'}\n",
      "{u'count': 80, u'_id': u'OSMPointy v0.4 iPhone'}\n"
     ]
    }
   ],
   "source": [
    "\n",
    "pipeline = [{\"$group\":{\"_id\": \"$created_by\",\n",
    "                       \"count\": {\"$sum\": 1}}},\n",
    "                     {\"$sort\": {\"count\": -1}},\n",
    "                    {\"$limit\": 10}]\n",
    "           \n",
    "result = collection.aggregate(pipeline)\n",
    "for r in result:\n",
    "    print r\n",
    "# assert len(result['result'])\n",
    "\n",
    "# print(len(result['result']))\n",
    "# print result[result]"
   ]
  },
  {
   "cell_type": "markdown",
   "metadata": {
    "collapsed": true
   },
   "source": [
    "#### Top 5 users contributions ####"
   ]
  },
  {
   "cell_type": "code",
   "execution_count": 23,
   "metadata": {
    "collapsed": false
   },
   "outputs": [
    {
     "name": "stdout",
     "output_type": "stream",
     "text": [
      "{u'count': 760464, u'_id': u'RichRico'}\n",
      "{u'count': 707471, u'_id': u'ediyes'}\n",
      "{u'count': 601207, u'_id': u'samely'}\n",
      "{u'count': 582349, u'_id': u'karitotp'}\n",
      "{u'count': 439029, u'_id': u'calfarome'}\n"
     ]
    }
   ],
   "source": [
    "# top three users with most contributions\n",
    "pipeline = [{\"$group\":{\"_id\": \"$created.user\",\n",
    "                       \"count\": {\"$sum\": 1}}},\n",
    "            {\"$sort\": {\"count\": -1}},\n",
    "            {\"$limit\": 5}]\n",
    "result = collection.aggregate(pipeline)\n",
    "for r in result:\n",
    "    print r"
   ]
  },
  {
   "cell_type": "markdown",
   "metadata": {},
   "source": [
    "### Top 10 amenity"
   ]
  },
  {
   "cell_type": "code",
   "execution_count": 18,
   "metadata": {
    "collapsed": false
   },
   "outputs": [
    {
     "name": "stdout",
     "output_type": "stream",
     "text": [
      "{u'count': 4593458, u'_id': {}}\n",
      "{u'count': 6007, u'_id': u'parking'}\n",
      "{u'count': 2905, u'_id': u'restaurant'}\n",
      "{u'count': 2254, u'_id': u'bicycle_parking'}\n",
      "{u'count': 1442, u'_id': u'bench'}\n",
      "{u'count': 1221, u'_id': u'school'}\n",
      "{u'count': 917, u'_id': u'fast_food'}\n",
      "{u'count': 871, u'_id': u'post_box'}\n",
      "{u'count': 819, u'_id': u'cafe'}\n",
      "{u'count': 756, u'_id': u'place_of_worship'}\n"
     ]
    }
   ],
   "source": [
    "pipeline = [{'$match': {'amenity': {'$exists': 1}}}, \n",
    "                                {'$group': {'_id': '$amenity', \n",
    "                                            'count': {'$sum': 1}}}, \n",
    "                                {'$sort': {'count': -1}}, \n",
    "                                {'$limit': 10}]\n",
    "result = collection.aggregate(pipeline)\n",
    "for r in result:\n",
    "    print r"
   ]
  },
  {
   "cell_type": "markdown",
   "metadata": {
    "collapsed": true
   },
   "source": [
    "#### Most popular fast food resturant ####"
   ]
  },
  {
   "cell_type": "code",
   "execution_count": 24,
   "metadata": {
    "collapsed": false
   },
   "outputs": [
    {
     "name": "stdout",
     "output_type": "stream",
     "text": [
      "{u'count': 376, u'_id': {}}\n",
      "{u'count': 190, u'_id': u'mexican'}\n",
      "{u'count': 175, u'_id': u'chinese'}\n",
      "{u'count': 170, u'_id': u'japanese'}\n",
      "{u'count': 145, u'_id': u'indian'}\n",
      "{u'count': 130, u'_id': u'pizza'}\n",
      "{u'count': 80, u'_id': u'thai'}\n",
      "{u'count': 75, u'_id': u'italian'}\n",
      "{u'count': 65, u'_id': u'american'}\n",
      "{u'count': 65, u'_id': u'vietnamese'}\n"
     ]
    }
   ],
   "source": [
    "# Most popular cuisines\n",
    "pipeline = [{\"$match\":{\"amenity\":{\"$exists\":1}, \"amenity\":\"restaurant\", \"cuisine\":{\"$exists\":1}}}, \n",
    "            {\"$group\":{\"_id\":\"$cuisine\", \"count\":{\"$sum\":1}}},        \n",
    "            {\"$sort\":{\"count\":-1}}, \n",
    "            {\"$limit\":10}]\n",
    "result = collection.aggregate(pipeline)\n",
    "for r in result:\n",
    "    print r"
   ]
  },
  {
   "cell_type": "markdown",
   "metadata": {},
   "source": [
    "#### Name of Universities ####"
   ]
  },
  {
   "cell_type": "code",
   "execution_count": 25,
   "metadata": {
    "collapsed": false
   },
   "outputs": [
    {
     "name": "stdout",
     "output_type": "stream",
     "text": [
      "{u'count': 5, u'_id': u'Stanford University'}\n",
      "{u'count': 5, u'_id': u'Carnegie Mellon University Silicon Valley'}\n",
      "{u'count': 5, u'_id': u'Singularity University Classroom '}\n",
      "{u'count': 5, u'_id': u'Singularity University'}\n",
      "{u'count': 5, u'_id': u'20'}\n",
      "{u'count': 5, u'_id': u'Nine Star University of Health Sciences'}\n"
     ]
    }
   ],
   "source": [
    "# University\n",
    "pipeline = [{\"$match\":{\"amenity\":{\"$exists\":1}, \"amenity\": \"university\", \"name\":{\"$exists\":1}}},\n",
    "            {\"$group\":{\"_id\":\"$name\", \"count\":{\"$sum\":1}}},\n",
    "            {\"$sort\":{\"count\":-1}}]\n",
    "result = collection.aggregate(pipeline)\n",
    "for r in result:\n",
    "    print r\n"
   ]
  },
  {
   "cell_type": "markdown",
   "metadata": {
    "collapsed": true
   },
   "source": [
    "#### 10 Places for worship ####"
   ]
  },
  {
   "cell_type": "code",
   "execution_count": 23,
   "metadata": {
    "collapsed": false
   },
   "outputs": [
    {
     "name": "stdout",
     "output_type": "stream",
     "text": [
      "{u'count': 12, u'_id': u'Mountain View Chinese Christian Church'}\n",
      "{u'count': 12, u'_id': u'First United Methodist Church'}\n",
      "{u'count': 12, u'_id': u'First Church of Christ Scientist'}\n",
      "{u'count': 12, u'_id': u'Peninsula Bible Church'}\n",
      "{u'count': 12, u'_id': u'Seventh Day Adventist Church'}\n",
      "{u'count': 12, u'_id': u'Trinity United Methodist Church'}\n",
      "{u'count': 12, u'_id': u'The Church of Jesus Christ of Latter-day Saints'}\n",
      "{u'count': 6, u'_id': u'Holy Korean Martyrs Catholic Church'}\n",
      "{u'count': 6, u'_id': u\"Saint Mark's Missionary Baptist Church\"}\n",
      "{u'count': 6, u'_id': u'New Hope International'}\n"
     ]
    }
   ],
   "source": [
    "pipeline = [{\"$match\":{\"amenity\":{\"$exists\":1}, \"amenity\": \"place_of_worship\", \"name\":{\"$exists\":1}}},\n",
    "            {\"$group\":{\"_id\":\"$name\", \"count\":{\"$sum\":1}}},\n",
    "            {\"$sort\":{\"count\":-1}},\n",
    "           {\"$limit\": 10}]\n",
    "result = collection.aggregate(pipeline)\n",
    "for r in result:\n",
    "    print r"
   ]
  },
  {
   "cell_type": "markdown",
   "metadata": {
    "collapsed": true
   },
   "source": [
    "#### Gas stations ####"
   ]
  },
  {
   "cell_type": "code",
   "execution_count": 27,
   "metadata": {
    "collapsed": false
   },
   "outputs": [
    {
     "name": "stdout",
     "output_type": "stream",
     "text": [
      "{u'count': 50, u'_id': u'Shell'}\n",
      "{u'count': 40, u'_id': u'Valero'}\n",
      "{u'count': 35, u'_id': u'Chevron'}\n",
      "{u'count': 30, u'_id': u'76'}\n",
      "{u'count': 30, u'_id': u'Arco'}\n",
      "{u'count': 10, u'_id': u'valero'}\n",
      "{u'count': 10, u'_id': u'ARCO'}\n",
      "{u'count': 5, u'_id': u'World Oil'}\n",
      "{u'count': 5, u'_id': u'Fair Oaks 76'}\n",
      "{u'count': 5, u'_id': u'Willow Cove Gas'}\n",
      "{u'count': 5, u'_id': u'Alliance Gasoline'}\n",
      "{u'count': 5, u'_id': u'Westmore Chevron'}\n",
      "{u'count': 5, u'_id': u'Shell Gas'}\n",
      "{u'count': 5, u'_id': u'Conoco Phillips 76'}\n",
      "{u'count': 5, u'_id': u'Union 76'}\n",
      "{u'count': 5, u'_id': u'SAP Vehicles Network Demo - Gas Station'}\n",
      "{u'count': 5, u'_id': u\"Ranier's Service Station\"}\n",
      "{u'count': 5, u'_id': u'Alliance'}\n",
      "{u'count': 5, u'_id': u'Rotten Robbie'}\n"
     ]
    }
   ],
   "source": [
    "pipeline = [{\"$match\":{\"amenity\":{\"$exists\":1}, \"amenity\": \"fuel\", \"name\":{\"$exists\":1}}},\n",
    "            {\"$group\":{\"_id\":\"$name\", \"count\":{\"$sum\":1}}},\n",
    "            {\"$sort\":{\"count\":-1}}]\n",
    "result = collection.aggregate(pipeline)\n",
    "for r in result:\n",
    "    print r"
   ]
  },
  {
   "cell_type": "markdown",
   "metadata": {
    "collapsed": true
   },
   "source": [
    "#### 10 Most popular Fast food cuisines ####"
   ]
  },
  {
   "cell_type": "code",
   "execution_count": 24,
   "metadata": {
    "collapsed": false
   },
   "outputs": [
    {
     "name": "stdout",
     "output_type": "stream",
     "text": [
      "{u'count': 84, u'_id': u'Subway'}\n",
      "{u'count': 42, u'_id': u\"McDonald's\"}\n",
      "{u'count': 30, u'_id': u'Taco Bell'}\n",
      "{u'count': 30, u'_id': u\"Togo's\"}\n",
      "{u'count': 18, u'_id': u'KFC'}\n",
      "{u'count': 18, u'_id': u'Round Table Pizza'}\n",
      "{u'count': 18, u'_id': u'Burger King'}\n",
      "{u'count': 12, u'_id': u'Jack in the Box'}\n",
      "{u'count': 12, u'_id': u'Jamba Juice'}\n",
      "{u'count': 12, u'_id': u'In-N-Out Burger'}\n"
     ]
    }
   ],
   "source": [
    "pipeline = [{\"$match\":{\"amenity\":{\"$exists\":1}, \"amenity\": \"fast_food\", \"name\":{\"$exists\":1}}},\n",
    "            {\"$group\":{\"_id\":\"$name\", \"count\":{\"$sum\":1}}},\n",
    "            {\"$sort\":{\"count\":-1}},\n",
    "            {\"$limit\": 10}]\n",
    "result = collection.aggregate(pipeline)\n",
    "for r in result:\n",
    "    print r"
   ]
  },
  {
   "cell_type": "markdown",
   "metadata": {
    "collapsed": true
   },
   "source": [
    "#### Number of hospitals ####"
   ]
  },
  {
   "cell_type": "code",
   "execution_count": 29,
   "metadata": {
    "collapsed": false
   },
   "outputs": [
    {
     "name": "stdout",
     "output_type": "stream",
     "text": [
      "{u'count': 5, u'_id': u'Grant Cuesta Sub Acute Rehabilitation Center'}\n",
      "{u'count': 5, u'_id': u'VA Palo Alto Health Care System'}\n",
      "{u'count': 5, u'_id': u'VA Medical Center Menlo Park'}\n",
      "{u'count': 5, u'_id': u'El Camino Hospital'}\n",
      "{u'count': 5, u'_id': u'PAMF Menlo Park Surgical Hospital'}\n",
      "{u'count': 5, u'_id': u'Kaiser Permanente'}\n",
      "{u'count': 5, u'_id': u'Kaiser Permanente Santa Clara Medical Center'}\n",
      "{u'count': 5, u'_id': u'Camino Medical Group'}\n",
      "{u'count': 5, u'_id': u'Palo Alto Medical Foundation'}\n",
      "{u'count': 5, u'_id': u'Health Services'}\n"
     ]
    }
   ],
   "source": [
    "pipeline = [{\"$match\":{\"amenity\":{\"$exists\":1}, \"amenity\": \"hospital\", \"name\":{\"$exists\":1}}},\n",
    "            {\"$group\":{\"_id\":\"$name\", \"count\":{\"$sum\":1}}},\n",
    "            {\"$sort\":{\"count\":-1}}]\n",
    "result = collection.aggregate(pipeline)\n",
    "for r in result:\n",
    "    print r"
   ]
  },
  {
   "cell_type": "markdown",
   "metadata": {
    "collapsed": true
   },
   "source": [
    "#### Beauty Salon ####"
   ]
  },
  {
   "cell_type": "code",
   "execution_count": 30,
   "metadata": {
    "collapsed": false
   },
   "outputs": [
    {
     "name": "stdout",
     "output_type": "stream",
     "text": [
      "{u'count': 8, u'_id': u'Salon Elizabeth'}\n",
      "{u'count': 5, u'_id': u'Salon 121'}\n"
     ]
    }
   ],
   "source": [
    "pipeline = [{\"$match\":{\"amenity\":{\"$exists\":1}, \"amenity\": \"beauty\", \"name\":{\"$exists\":1}}},\n",
    "            {\"$group\":{\"_id\":\"$name\", \"count\":{\"$sum\":1}}},\n",
    "            {\"$sort\":{\"count\":-1}}]\n",
    "result = collection.aggregate(pipeline)\n",
    "for r in result:\n",
    "    print r"
   ]
  },
  {
   "cell_type": "markdown",
   "metadata": {
    "collapsed": true
   },
   "source": [
    "#### Libraries ####"
   ]
  },
  {
   "cell_type": "code",
   "execution_count": 31,
   "metadata": {
    "collapsed": false
   },
   "outputs": [
    {
     "name": "stdout",
     "output_type": "stream",
     "text": [
      "{u'count': 13, u'_id': u'Little Free Library'}\n"
     ]
    }
   ],
   "source": [
    "pipeline = [{\"$match\":{\"amenity\":{\"$exists\":1}, \"amenity\": \"public_bookcase\", \"name\":{\"$exists\":1}}},\n",
    "            {\"$group\":{\"_id\":\"$name\", \"count\":{\"$sum\":1}}},\n",
    "            {\"$sort\":{\"count\":-1}}]\n",
    "result = collection.aggregate(pipeline)\n",
    "for r in result:\n",
    "    print r"
   ]
  },
  {
   "cell_type": "markdown",
   "metadata": {
    "collapsed": true
   },
   "source": [
    "#### 10 most poular schools ####"
   ]
  },
  {
   "cell_type": "code",
   "execution_count": 26,
   "metadata": {
    "collapsed": false
   },
   "outputs": [
    {
     "name": "stdout",
     "output_type": "stream",
     "text": [
      "{u'count': 12, u'_id': u'Union Academy'}\n",
      "{u'count': 12, u'_id': u'Pinewood School'}\n",
      "{u'count': 12, u'_id': u'Laurelwood Elementary School'}\n",
      "{u'count': 12, u'_id': u'Stratford School'}\n",
      "{u'count': 12, u'_id': u'Palo Verde Elementary School'}\n",
      "{u'count': 12, u'_id': u'Kumon'}\n",
      "{u'count': 12, u'_id': u'Athena Academy'}\n",
      "{u'count': 12, u'_id': u'Ohlone Elementary School'}\n",
      "{u'count': 12, u'_id': u'Lucille M Nixon Elementary School'}\n",
      "{u'count': 9, u'_id': u'Jane Lathrop Stanford Middle School'}\n"
     ]
    }
   ],
   "source": [
    "pipeline = [{\"$match\":{\"amenity\":{\"$exists\":1}, \"amenity\": \"school\", \"name\":{\"$exists\":1}}},\n",
    "            {\"$group\":{\"_id\":\"$name\", \"count\":{\"$sum\":1}}},\n",
    "            {\"$sort\":{\"count\":-1}},\n",
    "           {\"$limit\": 10}]\n",
    "result = collection.aggregate(pipeline)\n",
    "for r in result:\n",
    "    print r"
   ]
  },
  {
   "cell_type": "markdown",
   "metadata": {
    "collapsed": true
   },
   "source": [
    "#### 10 Most popular Parkings ####"
   ]
  },
  {
   "cell_type": "code",
   "execution_count": 27,
   "metadata": {
    "collapsed": false
   },
   "outputs": [
    {
     "name": "stdout",
     "output_type": "stream",
     "text": [
      "{u'count': 78, u'_id': u\"Visitor's Parking\"}\n",
      "{u'count': 63, u'_id': u'Apartment Visitor Parking'}\n",
      "{u'count': 18, u'_id': u'Employee Parking'}\n",
      "{u'count': 18, u'_id': u'Customer Parking'}\n",
      "{u'count': 12, u'_id': u'Lot 8'}\n",
      "{u'count': 12, u'_id': u'Lot 6'}\n",
      "{u'count': 12, u'_id': u'Sunnyvale Caltrain Station'}\n",
      "{u'count': 12, u'_id': u'Lot 7'}\n",
      "{u'count': 12, u'_id': u'Lot 4'}\n",
      "{u'count': 12, u'_id': u'Lot 1'}\n"
     ]
    }
   ],
   "source": [
    "pipeline = [{\"$match\":{\"amenity\":{\"$exists\":1}, \"amenity\": \"parking\", \"name\":{\"$exists\":1}}},\n",
    "            {\"$group\":{\"_id\":\"$name\", \"count\":{\"$sum\":1}}},\n",
    "            {\"$sort\":{\"count\":-1}},\n",
    "           {\"$limit\": 10}]\n",
    "result = collection.aggregate(pipeline)\n",
    "for r in result:\n",
    "    print r"
   ]
  },
  {
   "cell_type": "markdown",
   "metadata": {
    "collapsed": true
   },
   "source": [
    "####  10 Most popular Car wash ####"
   ]
  },
  {
   "cell_type": "code",
   "execution_count": 34,
   "metadata": {
    "collapsed": false
   },
   "outputs": [
    {
     "name": "stdout",
     "output_type": "stream",
     "text": [
      "{u'count': 5, u'_id': u'SV Express'}\n",
      "{u'count': 5, u'_id': u'Clear Water Car Wash'}\n",
      "{u'count': 5, u'_id': u'Thrifty'}\n",
      "{u'count': 5, u'_id': u'Lozano Brushless Car Wash'}\n",
      "{u'count': 5, u'_id': u\"Lozano's Car Wash\"}\n",
      "{u'count': 5, u'_id': u'Car Wash'}\n",
      "{u'count': 5, u'_id': u'Shell'}\n",
      "{u'count': 5, u'_id': u'Bubbles Hand Wash'}\n"
     ]
    }
   ],
   "source": [
    "pipeline = [{\"$match\":{\"amenity\":{\"$exists\":1}, \"amenity\": \"car_wash\", \"name\":{\"$exists\":1}}},\n",
    "            {\"$group\":{\"_id\":\"$name\", \"count\":{\"$sum\":1}}},\n",
    "            {\"$sort\":{\"count\":-1}}]\n",
    "result = collection.aggregate(pipeline)\n",
    "for r in result:\n",
    "    print r"
   ]
  },
  {
   "cell_type": "markdown",
   "metadata": {
    "collapsed": true
   },
   "source": [
    "#### Post office ####"
   ]
  },
  {
   "cell_type": "code",
   "execution_count": 35,
   "metadata": {
    "collapsed": false
   },
   "outputs": [
    {
     "name": "stdout",
     "output_type": "stream",
     "text": [
      "{u'count': 5, u'_id': u'Mailbox'}\n"
     ]
    }
   ],
   "source": [
    "pipeline = [{\"$match\":{\"amenity\":{\"$exists\":1}, \"amenity\": \"post_box\", \"name\":{\"$exists\":1}}},\n",
    "            {\"$group\":{\"_id\":\"$name\", \"count\":{\"$sum\":1}}},\n",
    "            {\"$sort\":{\"count\":-1}}]\n",
    "result = collection.aggregate(pipeline)\n",
    "for r in result:\n",
    "    print r"
   ]
  },
  {
   "cell_type": "markdown",
   "metadata": {
    "collapsed": true
   },
   "source": [
    "#### 10 most populr Coffe shops ####"
   ]
  },
  {
   "cell_type": "code",
   "execution_count": 29,
   "metadata": {
    "collapsed": false
   },
   "outputs": [
    {
     "name": "stdout",
     "output_type": "stream",
     "text": [
      "{u'count': 126, u'_id': u'Starbucks'}\n",
      "{u'count': 18, u'_id': u'Starbucks Coffee'}\n",
      "{u'count': 18, u'_id': u'Tea Era'}\n",
      "{u'count': 12, u'_id': u\"Peet's Coffee & Tea\"}\n",
      "{u'count': 12, u'_id': u'Peets Coffee'}\n",
      "{u'count': 12, u'_id': u\"Peet's Coffee\"}\n",
      "{u'count': 12, u'_id': u'Cloud Cafe'}\n",
      "{u'count': 12, u'_id': u'Philz Coffee'}\n",
      "{u'count': 6, u'_id': u'Threads'}\n",
      "{u'count': 6, u'_id': u'Dana Street Roasting Company'}\n"
     ]
    }
   ],
   "source": [
    "pipeline = [{\"$match\":{\"amenity\":{\"$exists\":1}, \"amenity\": \"cafe\", \"name\":{\"$exists\":1}}},\n",
    "            {\"$group\":{\"_id\":\"$name\", \"count\":{\"$sum\":1}}},\n",
    "            {\"$sort\":{\"count\":-1}},\n",
    "           {\"$limit\": 10}]\n",
    "result = collection.aggregate(pipeline)\n",
    "for r in result:\n",
    "    print r"
   ]
  },
  {
   "cell_type": "markdown",
   "metadata": {
    "collapsed": true
   },
   "source": [
    "\n",
    "\n",
    "#### Top 10 unique contributor of data ####"
   ]
  },
  {
   "cell_type": "code",
   "execution_count": 31,
   "metadata": {
    "collapsed": false
   },
   "outputs": [
    {
     "name": "stdout",
     "output_type": "stream",
     "text": [
      "{u'count': 912096, u'_id': u'RichRico'}\n",
      "{u'count': 848559, u'_id': u'ediyes'}\n",
      "{u'count': 721083, u'_id': u'samely'}\n",
      "{u'count': 698475, u'_id': u'karitotp'}\n",
      "{u'count': 526563, u'_id': u'calfarome'}\n",
      "{u'count': 420660, u'_id': u'oldtopos'}\n",
      "{u'count': 361137, u'_id': u'dannykath'}\n",
      "{u'count': 316620, u'_id': u'n76'}\n",
      "{u'count': 297894, u'_id': u'Luis36995'}\n",
      "{u'count': 225096, u'_id': u'matthieun'}\n"
     ]
    }
   ],
   "source": [
    "pipeline =[{\"$group\":{\"_id\":\"$created.user\", \"count\":{\"$sum\":1}}},\n",
    "            {\"$sort\":{\"count\":-1}},\n",
    "           {\"$limit\": 10}]\n",
    "result = collection.aggregate(pipeline)\n",
    "for r in result:\n",
    "    print r\n"
   ]
  },
  {
   "cell_type": "markdown",
   "metadata": {},
   "source": [
    "#### Top 10 version of contribution of data ####"
   ]
  },
  {
   "cell_type": "code",
   "execution_count": 39,
   "metadata": {
    "collapsed": false
   },
   "outputs": [
    {
     "name": "stdout",
     "output_type": "stream",
     "text": [
      "{u'count': 4786041, u'_id': u'1'}\n",
      "{u'count': 1625298, u'_id': u'2'}\n",
      "{u'count': 290949, u'_id': u'3'}\n",
      "{u'count': 96186, u'_id': u'4'}\n",
      "{u'count': 37587, u'_id': u'5'}\n",
      "{u'count': 21669, u'_id': u'6'}\n",
      "{u'count': 13233, u'_id': u'7'}\n",
      "{u'count': 7656, u'_id': u'8'}\n",
      "{u'count': 5469, u'_id': u'9'}\n",
      "{u'count': 3681, u'_id': u'10'}\n"
     ]
    }
   ],
   "source": [
    "pipeline =[{\"$group\":{\"_id\":\"$created.version\", \"count\":{\"$sum\":1}}},\n",
    "            {\"$sort\":{\"count\":-1}},\n",
    "           {\"$limit\": 10}]\n",
    "result = collection.aggregate(pipeline)\n",
    "for r in result:\n",
    "    print r"
   ]
  },
  {
   "cell_type": "markdown",
   "metadata": {},
   "source": [
    "#### Top 10 timestamps when the data is  contributed  ####"
   ]
  },
  {
   "cell_type": "code",
   "execution_count": null,
   "metadata": {
    "collapsed": false
   },
   "outputs": [],
   "source": [
    "pipeline =[{\"$group\":{\"_id\":\"$created.timestamp\", \"count\":{\"$sum\":1}}},\n",
    "            {\"$sort\":{\"count\":-1}},\n",
    "           {\"$limit\": 10}]\n",
    "result = collection.aggregate(pipeline)\n",
    "for r in result:\n",
    "    print r"
   ]
  },
  {
   "cell_type": "markdown",
   "metadata": {},
   "source": [
    "#### Highway ways in mountain view  ####"
   ]
  },
  {
   "cell_type": "code",
   "execution_count": null,
   "metadata": {
    "collapsed": false
   },
   "outputs": [],
   "source": [
    "pipeline =[{\"$group\":{\"_id\":\"$highway\", \"count\":{\"$sum\":1}}},\n",
    "            {\"$sort\":{\"count\":-1}},\n",
    "           {\"$limit\": 10}\n",
    "           ]\n",
    "result = collection.aggregate(pipeline)\n",
    "for r in result:\n",
    "    print r"
   ]
  },
  {
   "cell_type": "markdown",
   "metadata": {},
   "source": [
    "#### Types and number of ways in mountain view  ####"
   ]
  },
  {
   "cell_type": "code",
   "execution_count": 44,
   "metadata": {
    "collapsed": false
   },
   "outputs": [
    {
     "name": "stdout",
     "output_type": "stream",
     "text": [
      "{u'count': 6901788, u'_id': None}\n",
      "{u'count': 18, u'_id': u'Mathilda Avenue South'}\n",
      "{u'count': 12, u'_id': u'El Monte Road;Moody Road'}\n",
      "{u'count': 12, u'_id': u'US-101 South;Mathilda Avenue'}\n",
      "{u'count': 12, u'_id': u'Middlefield Road;Maude Avenue'}\n",
      "{u'count': 12, u'_id': u'Mathilda Avenue North'}\n",
      "{u'count': 12, u'_id': u'SR-82 South;Sunnyvale;El Camino Real'}\n",
      "{u'count': 12, u'_id': u'Moffett Boulevard;NASA Parkway'}\n",
      "{u'count': 12, u'_id': u'Ellis Street;Moffett South Gate'}\n",
      "{u'count': 12, u'_id': u'SR-85 South;Cupertino;Santa Cruz'}\n",
      "{u'count': 12, u'_id': u'Evelyn Avenue'}\n",
      "{u'count': 12, u'_id': u'SR-82 North;Mountain View;El Camino Real'}\n",
      "{u'count': 12, u'_id': u'US-101 North'}\n",
      "{u'count': 12, u'_id': u'Fair Oaks Avenue'}\n",
      "{u'count': 12, u'_id': u'University Avenue'}\n",
      "{u'count': 12, u'_id': u'Rengstorff Avenue'}\n",
      "{u'count': 6, u'_id': u'SR-237 East;Alviso;Milpitas'}\n",
      "{u'count': 6, u'_id': u'Moffett Boulevard'}\n",
      "{u'count': 6, u'_id': u'US-101 South;San Jose'}\n",
      "{u'count': 6, u'_id': u'Homestead Road'}\n",
      "{u'count': 6, u'_id': u'SR-237 West;Mountain View Road;Alviso Road'}\n",
      "{u'count': 6, u'_id': u'Lawrence Expressway;Caribbean Drive'}\n",
      "{u'count': 6, u'_id': u'Fremont Avenue;Los Altos'}\n",
      "{u'count': 6, u'_id': u'Amphitheater Parkway'}\n",
      "{u'count': 6, u'_id': u'San Antonio Road'}\n",
      "{u'count': 6, u'_id': u'Old Middlefield Way'}\n",
      "{u'count': 6, u'_id': u'Los Altos;San Antonio Road South'}\n",
      "{u'count': 6, u'_id': u'Fair Oaks Avenue North'}\n",
      "{u'count': 6, u'_id': u'Embarcadero Road;Oregon Expressway'}\n",
      "{u'count': 6, u'_id': u'Arques / Fair Oaks'}\n",
      "{u'count': 6, u'_id': u'Mountain View;Shoreline Blvd'}\n",
      "{u'count': 6, u'_id': u'Sunnyvale;Mathilda Avenue'}\n",
      "{u'count': 6, u'_id': u'Page Mill Road;Palo Alto'}\n",
      "{u'count': 6, u'_id': u'Magdalena Avenue'}\n",
      "{u'count': 6, u'_id': u'Fair Oaks Avenue South'}\n",
      "{u'count': 6, u'_id': u'Central Expressway'}\n",
      "{u'count': 6, u'_id': u'San Antonio Road North'}\n",
      "{u'count': 6, u'_id': u'Dana Street;Whisman Road'}\n",
      "{u'count': 6, u'_id': u'Lawrence Expressway'}\n",
      "{u'count': 6, u'_id': u'Fremont Avenue'}\n",
      "{u'count': 6, u'_id': u'I-280'}\n",
      "{u'count': 6, u'_id': u'Mathilda Avenue North;SR-237 East'}\n",
      "{u'count': 6, u'_id': u'Shoreline Boulevard'}\n",
      "{u'count': 6, u'_id': u'SR-237;US-101 South'}\n",
      "{u'count': 6, u'_id': u'Magdelena Avenue'}\n"
     ]
    }
   ],
   "source": [
    "pipeline =[{\"$group\":{\"_id\":\"$exit_to\", \"count\":{\"$sum\":1}}},\n",
    "            {\"$sort\":{\"count\":-1}}\n",
    "           ]\n",
    "result = collection.aggregate(pipeline)\n",
    "for r in result:\n",
    "    print r"
   ]
  },
  {
   "cell_type": "markdown",
   "metadata": {},
   "source": [
    "### Other Ideas about data set \n",
    "Since the data consist of inconsistent phone numbers like \"650-322-2554\", \"+16508570333\" etc. During the collection of the data from user, it should follow the rule format of phone number of given country or area which is generraly in ITU E.123 standard:\n",
    "* \"+\"\n",
    "* the national code (1 for the USA)\n",
    "* space\n",
    "* the area/regional code\n",
    "* space\n",
    "* the local exchange\n",
    "* space\n",
    "* the local number\n",
    "\n",
    "There are some fields of node is missing like County, the data collection should follow the structured format. But it trivial because Nosql database can pretty much handle the non structured data."
   ]
  },
  {
   "cell_type": "markdown",
   "metadata": {},
   "source": [
    "### Conclusion\n",
    "After reviewing the data of mountain view, much of the information has been extracted about the city. The data has been well cleaned for the purpose of enough information extraction. Thinking about the compnies and startups established in Mountain view, i couldn't find any information regarding that. If the data is stored as in the name of comapnies and startups buildings, it would be really helpful to gain insight of number of the comapanies establishd in given city."
   ]
  },
  {
   "cell_type": "code",
   "execution_count": null,
   "metadata": {
    "collapsed": true
   },
   "outputs": [],
   "source": []
  }
 ],
 "metadata": {
  "anaconda-cloud": {},
  "kernelspec": {
   "display_name": "Python [Root]",
   "language": "python",
   "name": "Python [Root]"
  },
  "language_info": {
   "codemirror_mode": {
    "name": "ipython",
    "version": 2
   },
   "file_extension": ".py",
   "mimetype": "text/x-python",
   "name": "python",
   "nbconvert_exporter": "python",
   "pygments_lexer": "ipython2",
   "version": "2.7.12"
  }
 },
 "nbformat": 4,
 "nbformat_minor": 0
}
